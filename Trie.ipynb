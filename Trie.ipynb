{
  "nbformat": 4,
  "nbformat_minor": 0,
  "metadata": {
    "colab": {
      "name": "Trie.ipynb",
      "provenance": [],
      "collapsed_sections": []
    },
    "kernelspec": {
      "name": "python3",
      "display_name": "Python 3"
    }
  },
  "cells": [
    {
      "cell_type": "code",
      "metadata": {
        "id": "DzrxRPaZRB_h",
        "colab_type": "code",
        "colab": {}
      },
      "source": [
        "class Node:\n",
        "    \n",
        "    def __init__(self):\n",
        "        \n",
        "        self.prefixes = 0\n",
        "        self.words = 0\n",
        "        self.children = [None for i in range (26)]\n",
        "        \n",
        "        \n",
        "    def add(self, suffix, currentIndex):\n",
        "        \n",
        "        \n",
        "        if currentIndex == len(suffix):\n",
        "            self.words = self.words + 1\n",
        "            self.prefixes = self.prefixes + 1\n",
        "        \n",
        "        else:\n",
        "            self.prefixes = self.prefixes + 1\n",
        "            firstChar = suffix[currentIndex]\n",
        "            if self.children[ord(firstChar) - ord('a')] == None:\n",
        "                newNode = Node()\n",
        "                self.children[ord(firstChar) - ord('a')] = newNode\n",
        "            currentIndex += 1\n",
        "            self.children[ord(firstChar) - ord('a')].add(suffix, currentIndex)\n",
        "                \n",
        "    \n",
        "    def count_words(self, suffix, currentIndex):\n",
        "        \n",
        "        if currentIndex == len(suffix):\n",
        "            return self.words\n",
        "        \n",
        "        else:\n",
        "            firstChar = suffix[currentIndex]\n",
        "            if self.children[ord(firstChar) - ord('a')] == None:\n",
        "                return 0\n",
        "            else:\n",
        "                currentIndex += 1\n",
        "                return self.children[ord(firstChar) - ord('a')].count_words(suffix, currentIndex)\n",
        "            \n",
        "    def count_prefixes(self, suffix, currentIndex):\n",
        "        \n",
        "        if currentIndex == len(suffix):\n",
        "            return self.prefixes\n",
        "        \n",
        "        else:\n",
        "            firstChar = suffix[currentIndex]\n",
        "            if self.children[ord(firstChar) - ord('a')] == None:\n",
        "                return 0\n",
        "            else:\n",
        "                currentIndex += 1\n",
        "                return self.children[ord(firstChar) - ord('a')].count_prefixes(suffix, currentIndex)"
      ],
      "execution_count": 0,
      "outputs": []
    },
    {
      "cell_type": "code",
      "metadata": {
        "id": "QQz0bGuTV97c",
        "colab_type": "code",
        "colab": {
          "base_uri": "https://localhost:8080/",
          "height": 34
        },
        "outputId": "4f0d951f-9e04-4b99-f907-40bffb9f92b7"
      },
      "source": [
        "## Test code\n",
        "\n",
        "root = Node()\n",
        "root.add('hello', 0)\n",
        "root.add('hell', 0)\n",
        "root.add('adc', 0)\n",
        "root.add('heafth', 0)\n",
        "print(\n",
        "root.count_prefixes('hel', 0),\n",
        "root.count_prefixes('hea', 0),\n",
        "root.count_words('hello',0),\n",
        "root.count_words('hell', 0),\n",
        "root.count_words('adc', 0),\n",
        "root.count_words('hellodd',0))"
      ],
      "execution_count": 39,
      "outputs": [
        {
          "output_type": "stream",
          "text": [
            "2 1 1 1 1 0\n"
          ],
          "name": "stdout"
        }
      ]
    },
    {
      "cell_type": "code",
      "metadata": {
        "id": "1P-WrnDwiewS",
        "colab_type": "code",
        "colab": {}
      },
      "source": [
        ""
      ],
      "execution_count": 0,
      "outputs": []
    }
  ]
}