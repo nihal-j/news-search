{
 "cells": [
  {
   "cell_type": "markdown",
   "metadata": {
    "colab_type": "text",
    "id": "__1Nxb4gRIeN"
   },
   "source": [
    "Done so far :\n",
    "\n",
    "\n",
    "*   Lemmatization\n",
    "*   Stop Words Removal\n",
    "\n",
    "Verify :\n",
    "\n",
    "* Normalization - removing accents, etc.\n",
    "\n"
   ]
  },
  {
   "cell_type": "code",
   "execution_count": 6,
   "metadata": {
    "colab": {},
    "colab_type": "code",
    "id": "8qZ-TMc9SVHl"
   },
   "outputs": [],
   "source": [
    "import nltk\n",
    "import numpy as np\n",
    "from nltk.stem import WordNetLemmatizer\n",
    "from nltk.corpus import wordnet\n",
    "from nltk.corpus import stopwords\n",
    "from nltk.tokenize import RegexpTokenizer\n",
    "import re\n",
    "import wordninja \n",
    "\n",
    "####### After importing nltk, run the following only once ######\n",
    "# nltk.download('averaged_perceptron_tagger')\n",
    "# nltk.download('wordnet')\n",
    "# nltk.download('stopwords')\n",
    "### pip install wordninja ###"
   ]
  },
  {
   "cell_type": "code",
   "execution_count": 7,
   "metadata": {
    "colab": {},
    "colab_type": "code",
    "id": "LpQkEVQOSVHr"
   },
   "outputs": [],
   "source": [
    "def get_wordnet_pos(word):\n",
    "    tag=nltk.pos_tag([word])[0][1][0].upper()\n",
    "    tag_dict={\"J\": wordnet.ADJ, \n",
    "              \"N\": wordnet.NOUN,\n",
    "              \"V\": wordnet.VERB,\n",
    "              \"R\": wordnet.ADV}\n",
    "    return tag_dict.get(tag,wordnet.NOUN)\n",
    "\n",
    "def lemma_stop(str):\n",
    "    lemmatizer = WordNetLemmatizer()\n",
    "    # sentence=arr[0][4]\n",
    "    tokenizer = RegexpTokenizer('\\w+|\\$]\\d\\[+|\\S+,-')\n",
    "    tokenized = tokenizer.tokenize(str)\n",
    "    lemmatized = [lemmatizer.lemmatize(w,get_wordnet_pos(w)) for w in tokenized]\n",
    "    stop_words = set(stopwords.words('english'))\n",
    "    filtered_sentence = [w for w in lemmatized if w.lower() not in stop_words]\n",
    "    after_lemma_stop = ' '.join(w for w in filtered_sentence)\n",
    "    return filtered_sentence"
   ]
  },
  {
   "cell_type": "code",
   "execution_count": 8,
   "metadata": {
    "colab": {},
    "colab_type": "code",
    "id": "0PvIwQ6ySVHv",
    "scrolled": false
   },
   "outputs": [],
   "source": [
    "# loading data.npy\n",
    "# data.npy is a 2D array containing the dataset information as\n",
    "# data[i][0] : docID of ith document\n",
    "# data[i][1] : title of ith document\n",
    "# data[i][4] : content of ith document\n",
    "\n",
    "data = np.load('data.npy',allow_pickle = True)\n",
    "# sentence = data[0][4]\n",
    "# print(sentence)"
   ]
  },
  {
   "cell_type": "code",
   "execution_count": 9,
   "metadata": {
    "colab": {},
    "colab_type": "code",
    "id": "y6aQ7ZcPCH4d",
    "outputId": "8fc93dc4-51e3-48ff-fa64-d5bbef5847a9",
    "scrolled": true
   },
   "outputs": [
    {
     "name": "stdout",
     "output_type": "stream",
     "text": [
      "204135\n"
     ]
    }
   ],
   "source": [
    "# creating a map {index_in_data_npy, docID}\n",
    "\n",
    "# ex. if ith element in data has docID j,\n",
    "# get_docID[i] will return j\n",
    "\n",
    "get_docID = {}\n",
    "get_index = {}\n",
    "\n",
    "print(len(data))\n",
    "\n",
    "for i in range(0, len(data)) :\n",
    "    get_docID[i] = int(data[i][0])\n",
    "    get_index[int(data[i][0])] = i\n",
    "    # print(get_docID[i])"
   ]
  },
  {
   "cell_type": "code",
   "execution_count": 10,
   "metadata": {
    "colab": {},
    "colab_type": "code",
    "id": "hxoEIRA5rJe8",
    "outputId": "439af5f9-653e-4ac9-849b-21f2741aca5f"
   },
   "outputs": [],
   "source": [
    "# f_content=data[161][4]\n",
    "# # docID of the 161st element in data.npy is:\n",
    "# doc161=get_docID[161] \n",
    "\n",
    "# print(f_content)\n",
    "# print()\n",
    "# print(doc161)"
   ]
  },
  {
   "cell_type": "code",
   "execution_count": 11,
   "metadata": {
    "colab": {},
    "colab_type": "code",
    "id": "A59y0hy1rJfA",
    "outputId": "10be2124-11f3-409b-9055-256b75a18868"
   },
   "outputs": [],
   "source": [
    "# final_doc161=lemma_stop(f_content)\n",
    "# print(final_doc161)"
   ]
  },
  {
   "cell_type": "code",
   "execution_count": 12,
   "metadata": {
    "colab": {},
    "colab_type": "code",
    "id": "omCpgFfRrJfE",
    "outputId": "b9844622-561f-41b1-b86c-026821b380d7"
   },
   "outputs": [],
   "source": [
    "# final_doc1=lemma_stop(data[1][4])\n",
    "# print(final_doc1)"
   ]
  },
  {
   "cell_type": "code",
   "execution_count": 80,
   "metadata": {
    "colab": {},
    "colab_type": "code",
    "id": "E4YqxUBHrJfI",
    "outputId": "0d71d645-d6ae-4d19-90f2-dfc8d86b443d"
   },
   "outputs": [],
   "source": [
    "# final_doc10=lemma_stop(data[10][4])\n",
    "# print(final_doc10)"
   ]
  },
  {
   "cell_type": "code",
   "execution_count": 120,
   "metadata": {},
   "outputs": [],
   "source": [
    "def is_not_credible (text):\n",
    "    match = re.search(r'[!@#?&{}()]', text)\n",
    "    \n",
    "    if match:\n",
    "        return True\n",
    "    else:\n",
    "        return False"
   ]
  },
  {
   "cell_type": "code",
   "execution_count": 121,
   "metadata": {},
   "outputs": [],
   "source": [
    "def scrub_words(text):\n",
    "    text = re.sub('[!@#?&{}()]', '', text)\n",
    "    text=re.sub(r'[^\\x00-\\x7F]',\" \",text)\n",
    "    return text"
   ]
  },
  {
   "cell_type": "code",
   "execution_count": 122,
   "metadata": {},
   "outputs": [],
   "source": [
    "def clean_document (document_string):\n",
    "    cleaned_doc = document_string\n",
    "    for word in document_string.split():\n",
    "                if is_not_credible(word):\n",
    "                    temp= scrub_words(word)\n",
    "                    split=wordninja.split(temp)\n",
    "                    if len(split)>7:\n",
    "                          cleaned_doc = cleaned_doc.replace(word,'')\n",
    "    return cleaned_doc"
   ]
  },
  {
   "cell_type": "code",
   "execution_count": 127,
   "metadata": {},
   "outputs": [
    {
     "name": "stdout",
     "output_type": "stream",
     "text": [
      "1891\n",
      "['know', 'States', 'impose', 'reasonable', 'limitation', 'less', 'gun', 'crime', 'less', 'homicide', 'Sen', 'Chris', 'Murphy', 'Conn', 'speak', 'Senate', 'floor', 'June', '15', 'Readers', 'ask', 'fact', 'check', 'gun', 'rhetoric', 'use', 'Democrats', 'wake', 'mass', 'shoot', 'Orlando', 'one', 'case', 'already', 'delve', 'material', 'claim', 'new', 'let', 'take', 'look', 'start', 'Murphy', 'statement', 'Facts', 'Murphy', 'staff', 'say', 'refer', 'chart', 'appear', 'National', 'Journal', '2015', 'turn', 'carefully', 'checked', 'chart', 'President', 'Obama', 'make', 'similar', 'carefully', 'phrase', 'claim', 'gun', 'death', 'Note', 'Murphy', 'refer', 'homicide', 'gun', 'crime', 'President', 'Obama', 'earn', 'Two', 'Pinocchios', 'Readers', 'check', 'full', 'fact', 'check', 'summary', 'note', 'gun', 'death', '60', 'percent', '2013', 'actually', 'suicide', 'data', 'use', 'National', 'Journal', 'chart', 'calculates', 'number', 'gun', 'related', 'death', 'per', '100', '000', 'people', 'include', 'gun', 'death', 'include', 'homicide', 'suicide', 'accidental', 'gun', 'death', 'legal', 'intervention', 'involve', 'firearm', 'remove', 'suicide', 'total', 'reran', 'number', 'case', 'make', 'huge', 'difference', 'Half', '10', 'state', 'low', 'gun', 'death', 'rate', 'turn', 'state', 'less', 'restrictive', 'gun', 'law', 'Moreover', 'counting', 'gun', 'law', 'certainly', 'open', 'interpretation', 'also', 'affect', 'outcome', 'enough', 'count', 'law', 'figure', 'reason', 'gun', 'death', 'low', 'one', 'state', 'another', 'One', 'would', 'need', 'specifically', 'determine', 'whether', 'certain', 'law', 'effect', 'time', 'gun', 'death', 'rate', 'state', 'instance', 'Murphy', 'claim', 'worthy', 'Three', 'Pinocchios', 'specifically', 'refer', 'homicide', 'rather', 'gun', 'death', 'Three', 'Pinocchios', 'rating', 'scale', 'var', 'urlRegex', 'b', 'http', 'Z0', '9', '_', 'Z0', '9', '_', 'ig', 'endPointString', 'Map', 'pattern', 'x3e', 'http', 'web', 'archive', 'org', 'web', '20160617095400', 'http', 'poll', 'washingtonpost', 'com', 'userpolls', 'game', 'webapi', 'poll', 'id', 'id', 'x3e', 'poll', 'content', 'x3e', 'Simple', 'Id', 'Content', 'Config', 'WPGames', 'WPGames', 'WPGames', 'common', 'WPGames', 'common', 'WPGames', 'common', 'api', 'WPGames', 'common', 'api', 'WPGames', 'common', 'api', 'e68a3044', 'a988', '45a6', 'b59f', 'c346e82d664c', 'endPointString', 'match', 'urlRegex', '0', 'replace', 'poll', 'var', 'shareURL', 'encodeURIComponent', 'http', 'web', 'archive', 'org', 'web', '20160617095400', 'http', 'wapo', 'st', '21pk0d8', 'window', 'interactiveOmniture', 'window', 'interactiveOmniture', 'window', 'interactiveOmniture', 'e68a3044', 'a988', '45a6', 'b59f', 'c346e82d664c', 'id', 'e68a3044', 'a988', '45a6', 'b59f', 'c346e82d664c', 'type', 'interactive', 'subtype', 'poll', 'embed', 'embed', 'true', 'userId', 'c3a12994', '0d15', '4748', '869d', '9dca491526fa', 'userType', 'ANONYMOUS', 'gameId', 'e68a3044', 'a988', '45a6', 'b59f', 'c346e82d664c', 'correctAnswers', '0', 'wrongAnswers', '0', 'answeredQuestions', '0', 'game', 'gameId', 'e68a3044', 'a988', '45a6', 'b59f', 'c346e82d664c', 'sectionId', 'politics', 'blogName', 'fact', 'checker', 'title', 'fact', 'checker', 'rating', 'murphy', '1', 'byline', 'glenn', 'kessler', 'bylineBioPage', 'http', 'web', 'archive', 'org', 'web', '20160617095400', 'http', 'www', 'washingtonpost', 'com', 'people', 'glenn', 'kessler', 'articleReferences', 'createdTimestamp', '1466118080690', 'archive', 'false', 'allowMoreThanOnce', 'false', 'createdBy', 'KESSLERGA', 'lastUpdatedBy', 'KESSLERGA', 'live', 'true', 'photoUploaded', 'false', 'shareUrl', 'http', 'web', 'archive', 'org', 'web', '20160617095400', 'http', 'wapo', 'st', '21pk0d8', 'commercialNode', 'politics', 'embedToggles', 'headline', 'false', 'byline', 'false', 'captchaProtected', 'false', 'question', 'questionId', '69a73c61', '9b60', '4a7d', '88b8', '73090f0e953c', 'questionText', 'p', 'would', 'rate', 'claim', 'check', 'mark', 'mean', 'think', 'statement', 'true', 'agree', 'rating', 'p', 'excludeFromTrivia', 'false', 'articleReference', 'option', 'optionId', '9316b3ff', 'f09c', '4846', 'ad19', 'd61d85ee4ace', 'optionText', 'hasComment', 'false', 'optionId', 'd6f6a56a', 'e3cb', '47c5', '8e22', 'cf0e6b5acde8', 'optionText', 'hasComment', 'false', 'optionId', '6b850572', '808b', '4b93', 'aedf', '98ffd0a039e7', 'optionText', 'hasComment', 'false', 'optionId', '1a53846e', '4b40', '4340', 'b586', '701aefcd9b94', 'optionText', 'hasComment', 'false', 'optionId', '2de7a71d', '0242', '4b76', '9662', '87fe2a78bdee', 'optionText', 'hasComment', 'false', 'createdDate', '1466118080693', 'lastUpdated', '1466118122699', 'multipleSelectionAmount', '0', 'type', 'RATING', 'rating', 'iconType', 'PINOCCHIO', 'customIconName', 'PINOCCHIO', 'exclusive', 'false', 'allowDuplicate', 'false', 'lastUpdatedTimestamp', '1466118122697', '0', 'var', 'poll', 'JSON', 'parse', 'document', 'getElementById', 'pollData_e68a3044', 'a988', '45a6', 'b59f', 'c346e82d664c', 'innerHTML', 'var', 'viewType', 'embed', 'User', 'Poll', 'Results', 'Voting', 'close', 'poll', 'would', 'rate', 'claim', 'check', 'mark', 'mean', 'think', 'statement', 'true', 'agree', 'rating', '20', '20', '20', '20', '20', 'Pardon', 'interruption', 'need', 'verify', 'actual', 'person', 'View', 'Results', 'non', 'scientific', 'user', 'poll', 'Results', 'statistically', 'valid', 'cannot', 'assume', 'reflect', 'view', 'Washington', 'Post', 'user', 'group', 'general', 'population', 'Share', 'poll', 'Share', 'Facebook', 'Share', 'Twitter', 'AR', '15', 'style', 'weapon', 'legal', 'United', 'States', '2004', 'ban', '10', 'year', 'coincidental', 'massive', 'increase', 'mass', 'shooting', 'country', '2004', 'Murphy', 'June', '15', 'another', 'problematic', 'claim', 'Murphy', 'staff', 'could', 'point', 'specific', 'data', 'back', 'significant', 'contrary', 'data', 'show', '10', 'year', 'assault', 'weapon', 'ban', 'little', 'effect', '2004', 'study', 'Justice', 'Department', 'found', 'ban', 'impact', 'gun', 'violence', 'mixed', 'best', 'ban', 'renew', 'likely', 'effect', 'gun', 'violence', 'likely', 'small', 'best', 'perhaps', 'small', 'reliable', 'measurement', 'report', 'say', 'assault', 'weapon', 'rarely', 'use', 'gun', 'crime', 'James', 'Alan', 'Fox', 'Northeastern', 'University', 'professor', 'collect', 'data', 'back', '1982', 'show', 'assault', 'weapon', 'account', '24', '6', 'percent', 'public', 'mass', 'shooting', 'Assault', 'weapon', 'commonplace', 'mass', 'shooting', 'gun', 'control', 'advocate', 'believe', 'Fox', 'write', '2012', 'article', 'journal', 'Homicide', 'Studies', 'Instead', 'semiautomatic', 'handgun', '47', '9', 'percent', 'far', 'prevalent', 'random', 'massacre', 'firearm', 'would', 'typically', 'classify', 'assault', 'weapon', 'assault', 'weapon', 'ban', 'make', 'difference', 'mass', 'shooting', 'significantly', 'accord', 'Fox', 'data', '1976', '1994', '18', 'mass', 'shooting', 'per', 'year', 'ban', '1995', '2004', '19', 'incident', 'per', 'year', 'ban', '2011', 'average', 'go', 'nearly', '21', '2016', 'study', 'publish', 'Applied', 'Economics', 'Benjamin', 'Blau', 'Utah', 'State', 'University', 'colleague', 'also', 'look', 'whether', 'state', 'federal', 'law', 'assault', 'rifle', 'affected', 'whether', 'weapon', 'use', 'public', 'shooting', '1982', '2014', 'study', 'seem', 'indicate', 'Federal', 'assault', 'rifle', 'ban', 'individual', 'State', 'assault', 'rifle', 'ban', 'affect', 'likelihood', 'assault', 'rifle', 'use', 'mass', 'shoot', 'Blau', 'say', 'Said', 'differently', 'type', 'ban', 'appear', 'deter', 'use', 'assault', 'rifle', 'mass', 'shoot', 'data', 'use', 'determine', 'whether', 'assault', 'rifle', 'ban', 'negatively', 'influence', 'likelihood', 'occurrence', 'mass', 'shoot', 'conclusive', 'colleague', 'Christopher', 'Ingraham', 'point', 'assault', 'style', 'rifle', 'use', 'seven', 'eight', 'high', 'profile', 'public', 'mass', 'shooting', 'since', 'July', 'last', 'year', 'certainly', 'raise', 'profile', 'weapon', 'data', 'far', 'show', 'link', 'use', 'weapon', 'lift', 'ban', 'Murphy', 'asserts', 'bottom', 'line', 'statistic', 'cite', 'story', 'told', 'Wednesday', 'show', 'undeniable', 'gun', 'kill', 'thousand', 'Americans', 'every', 'year', 'say', 'Murphy', 'spokesman', 'Chris', 'Harris', 'step', 'back', 'look', 'totality', 'data', 'easy', 'access', 'firearm', 'way', 'regulation', 'lead', 'increase', 'gun', 'death', 'homicide', 'suicide', 'true', 'U', 'compare', 'state', 'state', 'compare', 'U', 'nation', 'Pinocchio', 'Test', 'Murphy', 'say', 'coincidental', 'mass', 'shooting', 'increase', 'since', 'ban', 'lift', 'data', 'show', 'ban', 'particularly', 'effective', 'first', 'place', 'mass', 'shooting', 'increase', 'significantly', 'since', 'data', 'set', 'relatively', 'small', 'maybe', 'something', 'change', 'past', 'year', 'claim', 'worthy', 'Three', 'Pinocchios', 'Three', 'Pinocchios', 'rating', 'scale', 'var', 'urlRegex', 'b', 'http', 'Z0', '9', '_', 'Z0', '9', '_', 'ig', 'endPointString', 'Map', 'pattern', 'x3e', 'http', 'web', 'archive', 'org', 'web', '20160617095400', 'http', 'poll', 'washingtonpost', 'com', 'userpolls', 'game', 'webapi', 'poll', 'id', 'id', 'x3e', 'poll', 'content', 'x3e', 'Simple', 'Id', 'Content', 'Config', 'WPGames', 'WPGames', 'WPGames', 'common', 'WPGames', 'common', 'WPGames', 'common', 'api', 'WPGames', 'common', 'api', 'WPGames', 'common', 'api', '2558761d', '9989', '416f', 'a8c6', '9fdd7289fb97', 'endPointString', 'match', 'urlRegex', '0', 'replace', 'poll', 'var', 'shareURL', 'encodeURIComponent', 'http', 'web', 'archive', 'org', 'web', '20160617095400', 'http', 'wapo', 'st', '21piYOd', 'window', 'interactiveOmniture', 'window', 'interactiveOmniture', 'window', 'interactiveOmniture', '2558761d', '9989', '416f', 'a8c6', '9fdd7289fb97', 'id', '2558761d', '9989', '416f', 'a8c6', '9fdd7289fb97', 'type', 'interactive', 'subtype', 'poll', 'embed', 'embed', 'true', 'userId', 'a0847542', 'f10f', '4409', 'a330', '85f46a3b3c8b', 'userType', 'ANONYMOUS', 'gameId', '2558761d', '9989', '416f', 'a8c6', '9fdd7289fb97', 'correctAnswers', '0', 'wrongAnswers', '0', 'answeredQuestions', '0', 'game', 'gameId', '2558761d', '9989', '416f', 'a8c6', '9fdd7289fb97', 'sectionId', 'politics', 'blogName', 'fact', 'checker', 'title', 'fact', 'checker', 'rating', 'trump', '2', 'byline', 'glenn', 'kessler', 'bylineBioPage', 'http', 'web', 'archive', 'org', 'web', '20160617095400', 'http', 'www', 'washingtonpost', 'com', 'people', 'glenn', 'kessler', 'articleReferences', 'createdTimestamp', '1466118160561', 'archive', 'false', 'allowMoreThanOnce', 'false', 'createdBy', 'KESSLERGA', 'lastUpdatedBy', 'KESSLERGA', 'live', 'true', 'photoUploaded', 'false', 'shareUrl', 'http', 'web', 'archive', 'org', 'web', '20160617095400', 'http', 'wapo', 'st', '21piYOd', 'commercialNode', 'politics', 'embedToggles', 'headline', 'false', 'byline', 'false', 'captchaProtected', 'false', 'question', 'questionId', '43f3b445', 'ee45', '45b7', 'bfba', 'cf6132ccda74', 'questionText', 'p', 'would', 'rate', 'claim', 'check', 'mark', 'mean', 'think', 'statement', 'true', 'agree', 'rating', 'p', 'excludeFromTrivia', 'false', 'articleReference', 'option', 'optionId', '9316b3ff', 'f09c', '4846', 'ad19', 'd61d85ee4ace', 'optionText', 'hasComment', 'false', 'optionId', 'd6f6a56a', 'e3cb', '47c5', '8e22', 'cf0e6b5acde8', 'optionText', 'hasComment', 'false', 'optionId', '6b850572', '808b', '4b93', 'aedf', '98ffd0a039e7', 'optionText', 'hasComment', 'false', 'optionId', '1a53846e', '4b40', '4340', 'b586', '701aefcd9b94', 'optionText', 'hasComment', 'false', 'optionId', '2de7a71d', '0242', '4b76', '9662', '87fe2a78bdee', 'optionText', 'hasComment', 'false', 'createdDate', '1466118160563', 'lastUpdated', '1466126246609', 'multipleSelectionAmount', '0', 'type', 'RATING', 'rating', 'iconType', 'PINOCCHIO', 'customIconName', 'PINOCCHIO', 'exclusive', 'false', 'allowDuplicate', 'false', 'lastUpdatedTimestamp', '1466126246607', '0', 'var', 'poll', 'JSON', 'parse', 'document', 'getElementById', 'pollData_2558761d', '9989', '416f', 'a8c6', '9fdd7289fb97', 'innerHTML', 'var', 'viewType', 'embed', 'User', 'Poll', 'Results', 'Voting', 'close', 'poll', 'would', 'rate', 'claim', 'check', 'mark', 'mean', 'think', 'statement', 'true', 'agree', 'rating', '20', '20', '20', '20', '20', 'Pardon', 'interruption', 'need', 'verify', 'actual', 'person', 'View', 'Results', 'non', 'scientific', 'user', 'poll', 'Results', 'statistically', 'valid', 'cannot', 'assume', 'reflect', 'view', 'Washington', 'Post', 'user', 'group', 'general', 'population', 'Share', 'poll', 'Share', 'Facebook', 'Share', 'Twitter', 'America', 'absolutely', 'awash', 'easily', 'obtainable', 'firearm', 'go', 'gun', 'show', 'local', 'convention', 'center', 'come', 'away', 'fully', 'automatic', 'assault', 'rifle', 'without', 'background', 'check', 'likely', 'without', 'show', 'identification', 'card', 'wait', 'Sen', 'Minority', 'Leader', 'Harry', 'Reid', 'Nev', 'quote', 'al', 'Qaeda', 'spokesman', 'statement', 'Senate', 'floor', 'June', '15', '2016', 'indeed', 'al', 'Qaeda', 'spokesman', 'Adam', 'Gadahn', 'use', 'exact', 'language', '2011', 'American', 'born', 'Gadahn', 'later', 'kill', 'drone', 'strike', '2015', 'clip', 'even', 'terrorist', 'get', 'fact', 'wrong', 'Senate', 'leader', 'uncritically', 'quote', 'Reid', 'put', 'terrorist', 'talk', 'gun', 'show', 'loophole', 'specifically', 'point', 'flaw', 'nation', 'gun', 'law', 'allows', 'convict', 'terrorist', 'slip', 'big', 'wide', 'hole', 'slip', 'Actually', 'buy', 'fully', 'automatic', 'assault', 'rifle', 'gun', 'show', 'al', 'Qaeda', 'spokesman', 'extension', 'Reid', 'mix', 'semiautomatic', 'weapon', 'automatic', 'weapon', 'Semiautomatic', 'define', '1968', 'Gun', 'Control', 'Act', 'mean', 'one', 'pull', 'trigger', 'equates', 'one', 'bullet', 'leave', 'barrel', 'Fully', 'automatic', 'rifle', 'available', 'United', 'States', 'require', 'six', 'month', 'paperwork', 'Bureau', 'Alcohol', 'Tobacco', 'Firearms', 'Explosives', 'also', 'significantly', 'expensive', 'single', 'fire', 'counterpart', 'ban', 'many', 'state', 'Moreover', '1986', 'law', 'ban', 'new', 'one', 'automatic', 'weapon', 'purchase', 'would', 'old', 'one', 'Still', 'one', 'could', 'purchase', 'semiautomatic', 'weapon', 'retrofit', 'something', 'call', 'auto', 'sear', 'mimic', 'automatic', 'weapon', 'though', 'weapon', 'still', 'fit', 'definition', 'semiautomatic', 'modification', 'require', 'permission', 'ATF', 'video', 'describe', 'one', 'product', 'call', 'gun', 'show', 'loophole', 'refers', 'private', 'sale', 'within', 'state', 'line', 'license', 'gun', 'dealer', 'gun', 'show', 'must', 'run', 'background', 'check', 'Anyone', 'gun', 'show', 'sell', 'someone', 'state', 'must', 'run', 'background', 'check', 'number', 'state', 'include', 'California', 'New', 'York', 'require', 'background', 'check', 'gun', 'transaction', 'state', 'require', 'handgun', 'purchase', 'gun', 'show', 'require', 'background', 'check', 'matter', 'policy', 'matter', 'state', 'law', 'say', 'Gadahn', 'extensive', 'Reid', 'speak', 'sloppily', 'Reid', 'spokesman', 'decline', 'provide', 'record', 'comment', 'Pinocchio', 'Test', 'may', 'make', 'sense', 'award', 'Pinocchios', 'dead', 'al', 'Qaeda', 'operative', 'case', 'Reid', 'clearly', 'state', 'Gadahn', 'correct', 'even', 'believe', 'quote', 'make', 'noteworthy', 'point', 'Reid', 'quote', 'fully', 'automatic', 'line', 'twice', 'without', 'inform', 'listener', 'actually', 'possible', 'Moreover', 'Reid', 'make', 'comment', 'prepared', 'statement', 'publicly', 'release', 'news', 'release', 'could', 'still', 'update', 'correction', 'Two', 'Pinocchios', 'rating', 'scale', 'Send', 'u', 'fact', 'check', 'fill', 'form', 'Check', '2016', 'candidate', 'fact', 'check', 'page', 'Sign', 'Fact', 'Checker', 'weekly', 'newsletter', 'var', 'urlRegex', 'b', 'http', 'Z0', '9', '_', 'Z0', '9', '_', 'ig', 'endPointString', 'Map', 'pattern', 'x3e', 'http', 'web', 'archive', 'org', 'web', '20160617095400', 'http', 'poll', 'washingtonpost', 'com', 'userpolls', 'game', 'webapi', 'poll', 'id', 'id', 'x3e', 'poll', 'content', 'x3e', 'Simple', 'Id', 'Content', 'Config', 'WPGames', 'WPGames', 'WPGames', 'common', 'WPGames', 'common', 'WPGames', 'common', 'api', 'WPGames', 'common', 'api', 'WPGames', 'common', 'api', 'b80ce38c', 'fbcf', '4bfc', '985e', 'fc63b800449f', 'endPointString', 'match', 'urlRegex', '0', 'replace', 'poll', 'var', 'shareURL', 'encodeURIComponent', 'window', 'interactiveOmniture', 'window', 'interactiveOmniture', 'window', 'interactiveOmniture', 'b80ce38c', 'fbcf', '4bfc', '985e', 'fc63b800449f', 'id', 'b80ce38c', 'fbcf', '4bfc', '985e', 'fc63b800449f', 'type', 'interactive', 'subtype', 'poll', 'embed', 'embed', 'true', 'userId', 'd6b018de', '31f6', '46f9', '8dd6', 'fd20a63ac97a', 'userType', 'ANONYMOUS', 'gameId', 'b80ce38c', 'fbcf', '4bfc', '985e', 'fc63b800449f', 'correctAnswers', '0', 'wrongAnswers', '0', 'answeredQuestions', '0', 'game', 'gameId', 'b80ce38c', 'fbcf', '4bfc', '985e', 'fc63b800449f', 'sectionId', 'politics', 'blogName', 'fact', 'checker', 'title', 'fact', 'checker', 'rating', 'reid', 'byline', 'glenn', 'kessler', 'bylineBioPage', 'http', 'web', 'archive', 'org', 'web', '20160617095400', 'http', 'www', 'washingtonpost', 'com', 'people', 'glenn', 'kessler', 'articleReferences', 'createdTimestamp', '1466117973960', 'archive', 'false', 'allowMoreThanOnce', 'false', 'createdBy', 'KESSLERGA', 'lastUpdatedBy', 'KESSLERGA', 'live', 'false', 'photoUploaded', 'false', 'commercialNode', 'politics', 'embedToggles', 'headline', 'false', 'byline', 'false', 'captchaProtected', 'false', 'question', 'questionId', '1a6d57ae', 'd8a8', '43e7', '8b1e', 'f60ce8ccafa1', 'questionText', 'p', 'would', 'rate', 'claim', 'check', 'mark', 'mean', 'think', 'statement', 'true', 'agree', 'rating', 'p', 'excludeFromTrivia', 'false', 'articleReference', 'option', 'optionId', '9316b3ff', 'f09c', '4846', 'ad19', 'd61d85ee4ace', 'optionText', 'hasComment', 'false', 'optionId', 'd6f6a56a', 'e3cb', '47c5', '8e22', 'cf0e6b5acde8', 'optionText', 'hasComment', 'false', 'optionId', '6b850572', '808b', '4b93', 'aedf', '98ffd0a039e7', 'optionText', 'hasComment', 'false', 'optionId', '1a53846e', '4b40', '4340', 'b586', '701aefcd9b94', 'optionText', 'hasComment', 'false', 'optionId', '2de7a71d', '0242', '4b76', '9662', '87fe2a78bdee', 'optionText', 'hasComment', 'false', 'createdDate', '1466117973962', 'lastUpdated', '1466117973962', 'multipleSelectionAmount', '0', 'type', 'RATING', 'rating', 'iconType', 'PINOCCHIO', 'customIconName', 'PINOCCHIO', 'exclusive', 'false', 'allowDuplicate', 'false', 'lastUpdatedTimestamp', '1466117973960', '0', 'var', 'poll', 'JSON', 'parse', 'document', 'getElementById', 'pollData_b80ce38c', 'fbcf', '4bfc', '985e', 'fc63b800449f', 'innerHTML', 'var', 'viewType', 'embed', 'User', 'Poll', 'Results', 'Voting', 'close', 'poll', 'would', 'rate', 'claim', 'check', 'mark', 'mean', 'think', 'statement', 'true', 'agree', 'rating', '20', '20', '20', '20', '20', 'Pardon', 'interruption', 'need', 'verify', 'actual', 'person', 'View', 'Results', 'non', 'scientific', 'user', 'poll', 'Results', 'statistically', 'valid', 'cannot', 'assume', 'reflect', 'view', 'Washington', 'Post', 'user', 'group', 'general', 'population', 'Share', 'poll', 'Share', 'Facebook', 'Share', 'Twitter']\n"
     ]
    }
   ],
   "source": [
    "# Before cleaning \n",
    "\n",
    "print(len(lemma_stop(data[get_docIndex[212853]][4])))\n",
    "print(lemma_stop(data[get_docIndex[212853]][4]))"
   ]
  },
  {
   "cell_type": "code",
   "execution_count": 126,
   "metadata": {},
   "outputs": [
    {
     "name": "stdout",
     "output_type": "stream",
     "text": [
      "1116\n",
      "['know', 'States', 'impose', 'reasonable', 'limitation', 'less', 'gun', 'crime', 'less', 'homicide', 'Sen', 'Chris', 'Murphy', 'Conn', 'speak', 'Senate', 'floor', 'June', '15', 'Readers', 'ask', 'fact', 'check', 'gun', 'rhetoric', 'use', 'Democrats', 'wake', 'mass', 'shoot', 'Orlando', 'one', 'case', 'already', 'delve', 'material', 'claim', 'new', 'let', 'take', 'look', 'start', 'Murphy', 'statement', 'Facts', 'Murphy', 'staff', 'say', 'refer', 'chart', 'appear', 'National', 'Journal', '2015', 'turn', 'carefully', 'checked', 'chart', 'President', 'Obama', 'make', 'similar', 'carefully', 'phrase', 'claim', 'gun', 'death', 'Note', 'Murphy', 'refer', 'homicide', 'gun', 'crime', 'President', 'Obama', 'earn', 'Two', 'Pinocchios', 'Readers', 'check', 'full', 'fact', 'check', 'summary', 'note', 'gun', 'death', '60', 'percent', '2013', 'actually', 'suicide', 'data', 'use', 'National', 'Journal', 'chart', 'calculates', 'number', 'gun', 'related', 'death', 'per', '100', '000', 'people', 'include', 'gun', 'death', 'include', 'homicide', 'suicide', 'accidental', 'gun', 'death', 'legal', 'intervention', 'involve', 'firearm', 'remove', 'suicide', 'total', 'reran', 'number', 'case', 'make', 'huge', 'difference', 'Half', '10', 'state', 'low', 'gun', 'death', 'rate', 'turn', 'state', 'less', 'restrictive', 'gun', 'law', 'Moreover', 'counting', 'gun', 'law', 'certainly', 'open', 'interpretation', 'also', 'affect', 'outcome', 'enough', 'count', 'law', 'figure', 'reason', 'gun', 'death', 'low', 'one', 'state', 'another', 'One', 'would', 'need', 'specifically', 'determine', 'whether', 'certain', 'law', 'effect', 'time', 'gun', 'death', 'rate', 'state', 'instance', 'Murphy', 'claim', 'worthy', 'Three', 'Pinocchios', 'specifically', 'refer', 'homicide', 'rather', 'gun', 'death', 'Three', 'Pinocchios', 'rating', 'scale', 'var', 'x3e', 'id', 'x3e', 'poll', 'content', 'x3e', 'Simple', 'Id', 'Content', 'checker', 'rating', 'murphy', '1', 'byline', 'glenn', 'would', 'rate', 'claim', 'check', 'mark', 'mean', 'think', 'statement', 'true', 'agree', '0', 'var', 'var', 'viewType', 'embed', 'User', 'Poll', 'Results', 'Voting', 'close', 'poll', 'would', 'rate', 'claim', 'check', 'mark', 'mean', 'think', 'statement', 'true', 'agree', 'rating', '20', '20', '20', '20', '20', 'Pardon', 'interruption', 'need', 'verify', 'actual', 'person', 'View', 'Results', 'non', 'scientific', 'user', 'poll', 'Results', 'statistically', 'valid', 'cannot', 'assume', 'reflect', 'view', 'Washington', 'Post', 'user', 'group', 'general', 'population', 'Share', 'poll', 'Share', 'Facebook', 'Share', 'Twitter', 'AR', '15', 'style', 'weapon', 'legal', 'United', 'States', '2004', 'ban', '10', 'year', 'coincidental', 'massive', 'increase', 'mass', 'shooting', 'country', '2004', 'Murphy', 'June', '15', 'another', 'problematic', 'claim', 'Murphy', 'staff', 'could', 'point', 'specific', 'data', 'back', 'significant', 'contrary', 'data', 'show', '10', 'year', 'assault', 'weapon', 'ban', 'little', 'effect', '2004', 'study', 'Justice', 'Department', 'found', 'ban', 'impact', 'gun', 'violence', 'mixed', 'best', 'ban', 'renew', 'likely', 'effect', 'gun', 'violence', 'likely', 'small', 'best', 'perhaps', 'small', 'reliable', 'measurement', 'report', 'say', 'assault', 'weapon', 'rarely', 'use', 'gun', 'crime', 'James', 'Alan', 'Fox', 'Northeastern', 'University', 'professor', 'collect', 'data', 'back', '1982', 'show', 'assault', 'weapon', 'account', '24', '6', 'percent', 'public', 'mass', 'shooting', 'Assault', 'weapon', 'commonplace', 'mass', 'shooting', 'gun', 'control', 'advocate', 'believe', 'Fox', 'write', '2012', 'article', 'journal', 'Homicide', 'Studies', 'Instead', 'semiautomatic', 'handgun', '47', '9', 'percent', 'far', 'prevalent', 'random', 'massacre', 'firearm', 'would', 'typically', 'classify', 'assault', 'weapon', 'assault', 'weapon', 'ban', 'make', 'difference', 'mass', 'shooting', 'significantly', 'accord', 'Fox', 'data', '1976', '1994', '18', 'mass', 'shooting', 'per', 'year', 'ban', '1995', '2004', '19', 'incident', 'per', 'year', 'ban', '2011', 'average', 'go', 'nearly', '21', '2016', 'study', 'publish', 'Applied', 'Economics', 'Benjamin', 'Blau', 'Utah', 'State', 'University', 'colleague', 'also', 'look', 'whether', 'state', 'federal', 'law', 'assault', 'rifle', 'affected', 'whether', 'weapon', 'use', 'public', 'shooting', '1982', '2014', 'study', 'seem', 'indicate', 'Federal', 'assault', 'rifle', 'ban', 'individual', 'State', 'assault', 'rifle', 'ban', 'affect', 'likelihood', 'assault', 'rifle', 'use', 'mass', 'shoot', 'Blau', 'say', 'Said', 'differently', 'type', 'ban', 'appear', 'deter', 'use', 'assault', 'rifle', 'mass', 'shoot', 'data', 'use', 'determine', 'whether', 'assault', 'rifle', 'ban', 'negatively', 'influence', 'likelihood', 'occurrence', 'mass', 'shoot', 'conclusive', 'colleague', 'Christopher', 'Ingraham', 'point', 'assault', 'style', 'rifle', 'use', 'seven', 'eight', 'high', 'profile', 'public', 'mass', 'shooting', 'since', 'July', 'last', 'year', 'certainly', 'raise', 'profile', 'weapon', 'data', 'far', 'show', 'link', 'use', 'weapon', 'lift', 'ban', 'Murphy', 'asserts', 'bottom', 'line', 'statistic', 'cite', 'story', 'told', 'Wednesday', 'show', 'undeniable', 'gun', 'kill', 'thousand', 'Americans', 'every', 'year', 'say', 'Murphy', 'spokesman', 'Chris', 'Harris', 'step', 'back', 'look', 'totality', 'data', 'easy', 'access', 'firearm', 'way', 'regulation', 'lead', 'increase', 'gun', 'death', 'homicide', 'suicide', 'true', 'U', 'compare', 'state', 'state', 'compare', 'U', 'nation', 'Pinocchio', 'Test', 'Murphy', 'say', 'coincidental', 'mass', 'shooting', 'increase', 'since', 'ban', 'lift', 'data', 'show', 'ban', 'particularly', 'effective', 'first', 'place', 'mass', 'shooting', 'increase', 'significantly', 'since', 'data', 'set', 'relatively', 'small', 'maybe', 'something', 'change', 'past', 'year', 'claim', 'worthy', 'Three', 'Pinocchios', 'Three', 'Pinocchios', 'rating', 'scale', 'var', 'x3e', 'id', 'x3e', 'poll', 'content', 'x3e', 'Simple', 'Id', 'Content', 'checker', 'rating', 'trump', '2', 'byline', 'glenn', 'would', 'rate', 'claim', 'check', 'mark', 'mean', 'think', 'statement', 'true', 'agree', '0', 'var', 'var', 'viewType', 'embed', 'User', 'Poll', 'Results', 'Voting', 'close', 'poll', 'would', 'rate', 'claim', 'check', 'mark', 'mean', 'think', 'statement', 'true', 'agree', 'rating', '20', '20', '20', '20', '20', 'Pardon', 'interruption', 'need', 'verify', 'actual', 'person', 'View', 'Results', 'non', 'scientific', 'user', 'poll', 'Results', 'statistically', 'valid', 'cannot', 'assume', 'reflect', 'view', 'Washington', 'Post', 'user', 'group', 'general', 'population', 'Share', 'poll', 'Share', 'Facebook', 'Share', 'Twitter', 'America', 'absolutely', 'awash', 'easily', 'obtainable', 'firearm', 'go', 'gun', 'show', 'local', 'convention', 'center', 'come', 'away', 'fully', 'automatic', 'assault', 'rifle', 'without', 'background', 'check', 'likely', 'without', 'show', 'identification', 'card', 'wait', 'Sen', 'Minority', 'Leader', 'Harry', 'Reid', 'Nev', 'quote', 'al', 'Qaeda', 'spokesman', 'statement', 'Senate', 'floor', 'June', '15', '2016', 'indeed', 'al', 'Qaeda', 'spokesman', 'Adam', 'Gadahn', 'use', 'exact', 'language', '2011', 'American', 'born', 'Gadahn', 'later', 'kill', 'drone', 'strike', '2015', 'clip', 'even', 'terrorist', 'get', 'fact', 'wrong', 'Senate', 'leader', 'uncritically', 'quote', 'Reid', 'put', 'terrorist', 'talk', 'gun', 'show', 'loophole', 'specifically', 'point', 'flaw', 'nation', 'gun', 'law', 'allows', 'convict', 'terrorist', 'slip', 'big', 'wide', 'hole', 'slip', 'Actually', 'buy', 'fully', 'automatic', 'assault', 'rifle', 'gun', 'show', 'al', 'Qaeda', 'spokesman', 'extension', 'Reid', 'mix', 'semiautomatic', 'weapon', 'automatic', 'weapon', 'Semiautomatic', 'define', '1968', 'Gun', 'Control', 'Act', 'mean', 'one', 'pull', 'trigger', 'equates', 'one', 'bullet', 'leave', 'barrel', 'Fully', 'automatic', 'rifle', 'available', 'United', 'States', 'require', 'six', 'month', 'paperwork', 'Bureau', 'Alcohol', 'Tobacco', 'Firearms', 'Explosives', 'also', 'significantly', 'expensive', 'single', 'fire', 'counterpart', 'ban', 'many', 'state', 'Moreover', '1986', 'law', 'ban', 'new', 'one', 'automatic', 'weapon', 'purchase', 'would', 'old', 'one', 'Still', 'one', 'could', 'purchase', 'semiautomatic', 'weapon', 'retrofit', 'something', 'call', 'auto', 'sear', 'mimic', 'automatic', 'weapon', 'though', 'weapon', 'still', 'fit', 'definition', 'semiautomatic', 'modification', 'require', 'permission', 'ATF', 'video', 'describe', 'one', 'product', 'call', 'gun', 'show', 'loophole', 'refers', 'private', 'sale', 'within', 'state', 'line', 'license', 'gun', 'dealer', 'gun', 'show', 'must', 'run', 'background', 'check', 'Anyone', 'gun', 'show', 'sell', 'someone', 'state', 'must', 'run', 'background', 'check', 'number', 'state', 'include', 'California', 'New', 'York', 'require', 'background', 'check', 'gun', 'transaction', 'state', 'require', 'handgun', 'purchase', 'gun', 'show', 'require', 'background', 'check', 'matter', 'policy', 'matter', 'state', 'law', 'say', 'Gadahn', 'extensive', 'Reid', 'speak', 'sloppily', 'Reid', 'spokesman', 'decline', 'provide', 'record', 'comment', 'Pinocchio', 'Test', 'may', 'make', 'sense', 'award', 'Pinocchios', 'dead', 'al', 'Qaeda', 'operative', 'case', 'Reid', 'clearly', 'state', 'Gadahn', 'correct', 'even', 'believe', 'quote', 'make', 'noteworthy', 'point', 'Reid', 'quote', 'fully', 'automatic', 'line', 'twice', 'without', 'inform', 'listener', 'actually', 'possible', 'Moreover', 'Reid', 'make', 'comment', 'prepared', 'statement', 'publicly', 'release', 'news', 'release', 'could', 'still', 'update', 'correction', 'Two', 'Pinocchios', 'rating', 'scale', 'Send', 'u', 'fact', 'check', 'fill', 'form', 'Check', '2016', 'candidate', 'fact', 'check', 'page', 'Sign', 'Fact', 'Checker', 'weekly', 'newsletter', 'var', 'x3e', 'id', 'x3e', 'poll', 'content', 'x3e', 'Simple', 'Id', 'Content', 'shareURL', 'encodeURIComponent', 'checker', 'rating', 'reid', 'byline', 'glenn', 'would', 'rate', 'claim', 'check', 'mark', 'mean', 'think', 'statement', 'true', 'agree', '0', 'var', 'var', 'viewType', 'embed', 'User', 'Poll', 'Results', 'Voting', 'close', 'poll', 'would', 'rate', 'claim', 'check', 'mark', 'mean', 'think', 'statement', 'true', 'agree', 'rating', '20', '20', '20', '20', '20', 'Pardon', 'interruption', 'need', 'verify', 'actual', 'person', 'View', 'Results', 'non', 'scientific', 'user', 'poll', 'Results', 'statistically', 'valid', 'cannot', 'assume', 'reflect', 'view', 'Washington', 'Post', 'user', 'group', 'general', 'population', 'Share', 'poll', 'Share', 'Facebook', 'Share', 'Twitter']\n"
     ]
    }
   ],
   "source": [
    "# After cleaning (removing JSON, HTML, etc)\n",
    "\n",
    "cleaned_doc=clean_document(data[get_docIndex[212853]][4])\n",
    "print(len(lemma_stop(cleaned_doc)))\n",
    "print(lemma_stop(cleaned_doc))"
   ]
  },
  {
   "cell_type": "markdown",
   "metadata": {
    "colab_type": "text",
    "id": "jsbw8tNbrJfL"
   },
   "source": [
    "*Run the following cell once after all pre-processing (removing JSON etc), and store final lemmatized contents of all docs:* "
   ]
  },
  {
   "cell_type": "code",
   "execution_count": 81,
   "metadata": {
    "colab": {},
    "colab_type": "code",
    "id": "ibq9gAauMI5Q"
   },
   "outputs": [],
   "source": [
    "# Run once after all pre-processing \n",
    "\n",
    "\n",
    "# # Tester code\n",
    "# import time\n",
    "\n",
    "# s = time.time()\n",
    "\n",
    "# for i in range(0, len(data)) :\n",
    "#     f_content = clean_document(data[i][4])\n",
    "#     contents = f_content\n",
    "#     # print(contents)\n",
    "#     final = lemma_stop (contents)\n",
    "# #     print(type(final))\n",
    "#     # print (final)\n",
    "    \n",
    "# print(time.time()-s)"
   ]
  },
  {
   "cell_type": "code",
   "execution_count": 13,
   "metadata": {},
   "outputs": [],
   "source": [
    "# creating a temporary smaller dataset\n",
    "\n",
    "subset = []\n",
    "counter = 0\n",
    "for document in data:\n",
    "    subset.append(document)\n",
    "    counter += 1\n",
    "    if counter == 1000:\n",
    "        break"
   ]
  },
  {
   "cell_type": "code",
   "execution_count": 16,
   "metadata": {},
   "outputs": [
    {
     "name": "stdout",
     "output_type": "stream",
     "text": [
      "101.46973180770874\n"
     ]
    }
   ],
   "source": [
    "import time\n",
    "\n",
    "start = time.time()\n",
    "\n",
    "titles = []\n",
    "contents = []\n",
    "for document in subset:\n",
    "    modifiedContent = lemma_stop((document[4]))\n",
    "    modifiedTitle = lemma_stop((document[1]))\n",
    "    # modifiedContent = lemma_stop(clean_document(document[4]))\n",
    "    # modifiedTitle = lemma_stop(clean_document(document[1]))\n",
    "    titles.append(modifiedTitle)\n",
    "    contents.append(modifiedContent)\n",
    "    \n",
    "print(time.time() - start)  # 110.26236414909363"
   ]
  },
  {
   "cell_type": "code",
   "execution_count": 17,
   "metadata": {},
   "outputs": [],
   "source": [
    "import unidecode\n",
    "contents_temp = contents\n",
    "titles_temp = titles\n",
    "for i in range(1000):\n",
    "    for j in range(len(contents[i])):\n",
    "        contents[i][j] = unidecode.unidecode(contents[i][j])\n",
    "    for j in range(len(titles[i])):\n",
    "        titles[i][j] = unidecode.unidecode(titles[i][j])\n",
    "# for document in contents_temp:\n",
    "#     for word in document:\n",
    "#         word = unidecode.unidecode(word)\n",
    "# for title in titles_temp:\n",
    "#     for word in title:\n",
    "#         word = unidecode.unidecode(word)"
   ]
  },
  {
   "cell_type": "code",
   "execution_count": 18,
   "metadata": {
    "colab": {},
    "colab_type": "code",
    "id": "fr-HGZhDrJfT"
   },
   "outputs": [],
   "source": [
    "import trie\n",
    "\n",
    "# Create map from docID of the document to an object of class Node \n",
    "# (i.e, the corresponding document trie structure)\n",
    "# ex. if the docID of the document is 1, \n",
    "# getReference[1] gives the object which is the trie structure of docID 1\n",
    "\n",
    "getReference = {}"
   ]
  },
  {
   "cell_type": "code",
   "execution_count": 19,
   "metadata": {
    "colab": {},
    "colab_type": "code",
    "id": "Nzx0ASWgrJfW",
    "outputId": "eb9842e7-50f4-460f-d858-08d25c1ba463"
   },
   "outputs": [],
   "source": [
    "# xx\n",
    "# collection = trie.CollectionNode()\n",
    "# doc1 = trie.Node()\n",
    "# get_doc_trie[get_docID[1]]=doc1\n",
    "# for w in final_doc1:\n",
    "#     print (w)\n",
    "#     collection.add_(w, 0, get_docID[1])\n",
    "#     doc1.add(w, 0)\n",
    "# #     break"
   ]
  },
  {
   "cell_type": "code",
   "execution_count": 20,
   "metadata": {
    "colab": {},
    "colab_type": "code",
    "id": "JPCQrSQkrJfa"
   },
   "outputs": [],
   "source": [
    "# xx\n",
    "# doc2 = trie.Node()\n",
    "# get_doc_trie[get_docID[161]]=doc2\n",
    "# for w in final_doc161:\n",
    "#     collection.add_(w, 0, get_docID[161])\n",
    "#     doc2.add(w, 0)"
   ]
  },
  {
   "cell_type": "code",
   "execution_count": 21,
   "metadata": {
    "colab": {},
    "colab_type": "code",
    "id": "BFi28zTjrJfd"
   },
   "outputs": [],
   "source": [
    "# xx\n",
    "# doc3 = trie.Node()\n",
    "# get_doc_trie[get_docID[10]]=doc3\n",
    "# for w in final_doc10:\n",
    "#     collection.add_(w, 0, get_docID[10])\n",
    "#     doc3.add(w, 0)"
   ]
  },
  {
   "cell_type": "code",
   "execution_count": 22,
   "metadata": {},
   "outputs": [],
   "source": [
    "documentRoot = []\n",
    "collection = trie.CollectionNode()\n",
    "\n",
    "# initializing the root for 1000 documents\n",
    "for i in range(1000):\n",
    "    newDocument = trie.Node()\n",
    "    documentRoot.append(newDocument)\n",
    "    getReference[get_docID[i]] = newDocument"
   ]
  },
  {
   "cell_type": "code",
   "execution_count": 23,
   "metadata": {},
   "outputs": [
    {
     "name": "stderr",
     "output_type": "stream",
     "text": [
      "100%|██████████| 1000/1000 [00:37<00:00, 26.69it/s]"
     ]
    },
    {
     "name": "stdout",
     "output_type": "stream",
     "text": [
      "38.5948224067688\n"
     ]
    },
    {
     "name": "stderr",
     "output_type": "stream",
     "text": [
      "\n"
     ]
    }
   ],
   "source": [
    "# creating the documents\n",
    "\n",
    "import time\n",
    "from tqdm import tqdm\n",
    "\n",
    "start = time.time()\n",
    "for i in tqdm(range(1000)):\n",
    "    for w in contents_temp[i]:\n",
    "        collection.add_(w, 0, get_docID[i])\n",
    "        documentRoot[i].add(w, 0)\n",
    "\n",
    "print(time.time() - start)  #39.19705152511597"
   ]
  },
  {
   "cell_type": "code",
   "execution_count": 24,
   "metadata": {},
   "outputs": [
    {
     "name": "stderr",
     "output_type": "stream",
     "text": [
      "100%|██████████| 1000/1000 [00:41<00:00, 24.00it/s]"
     ]
    },
    {
     "name": "stdout",
     "output_type": "stream",
     "text": [
      "{1: 117.23496544468516, 2: 116.79996476477045, 3: 171.7197963446012, 4: 198.69299188562852, 5: 26.23081718363615, 6: 231.2630214113159, 7: 115.75891475686498, 8: 167.56563519599513, 9: 190.79559037295533, 10: 144.17202352854017, 11: 175.11890985327642, 12: 130.02824135107957, 13: 68.0791893096888, 15: 91.44385264667912, 16: 100.26984288428682, 17: 63.40458688879071, 18: 243.026975059482, 19: 81.3490927810862, 20: 97.14983569846477, 21: 77.56622544187235, 22: 89.52298910605474, 23: 74.86971509591528, 24: 219.23178128477807, 25: 123.01619862418785, 26: 280.75761762250903, 27: 140.69347843351835, 28: 122.90606213043091, 29: 194.30169981951187, 30: 179.12154098538943, 31: 287.46652946907227, 32: 151.25027662046244, 33: 292.53889242398435, 34: 96.3299601719889, 35: 122.3544664554147, 36: 189.3728083363035, 37: 106.37530860100497, 38: 105.1247963451226, 39: 170.31773305805322, 40: 115.74583811818843, 41: 112.0723981134996, 42: 128.29540853740664, 43: 269.3855540280598, 44: 276.1567921455666, 45: 15.729833960633401, 46: 307.92304765494765, 47: 232.74762969974498, 48: 237.65384944999846, 49: 113.36463302869888, 50: 215.15464434938755, 51: 186.65972696419004, 52: 108.92720254263175, 53: 200.64385062722255, 54: 179.4767458981133, 55: 147.4907543377692, 56: 209.6331673401385, 57: 21.526871559841762, 58: 126.05800628356047, 59: 220.49531975544642, 60: 150.3404965378073, 61: 120.27481528649076, 62: 184.34383216641623, 63: 167.35738771899776, 64: 160.4962156451841, 65: 305.78812611619395, 66: 117.86231224074221, 67: 255.3791354545318, 68: 152.86271011349913, 69: 231.13827127168133, 70: 219.84996057467902, 71: 190.5600919898039, 72: 168.65906842022304, 75: 303.4960042397805, 76: 339.884197530802, 77: 136.7784969406734, 78: 298.78399947565407, 79: 198.19559579304612, 80: 228.4003238498717, 81: 102.99739378658724, 87: 304.88441068007074, 88: 247.52373231065178, 89: 114.01677837986651, 90: 136.30992841501498, 91: 292.37253432642603, 95: 9.90342540805821, 96: 132.74765998848886, 97: 33.454755919405336, 98: 197.54919714981, 99: 229.6318372473422, 100: 272.0233894989083, 101: 188.8940718913682, 102: 12.29128662344939, 103: 12.912969757307001, 104: 13.09182060964743, 105: 9.056334277648084, 106: 14.805590586457447, 107: 13.713430865623346, 108: 12.571561533033321, 111: 4.944736858094385, 112: 13.336447638761749, 113: 10.90641784994402, 114: 11.261755505352992, 115: 10.90641784994402, 117: 11.967943158785033, 118: 7.6371419850474735, 119: 12.742017379232657, 120: 12.37951789947046, 121: 13.846563721563145, 122: 13.766114149760822, 123: 11.81285098963721, 126: 10.42085219661802, 127: 12.803807279917917, 128: 11.871533913603939, 129: 15.608320482693633, 130: 14.057938418755144, 131: 10.727080557317812, 132: 7.73505220311976, 133: 14.081627481695197, 134: 12.655390700475268, 135: 2.3303420166426787, 136: 12.162767724484581, 137: 12.605427830395698, 138: 13.032045063642903, 139: 12.430950135812184, 140: 10.037670235330362, 141: 12.140896177685322, 142: 274.9382069933729, 143: 149.58164857363886, 144: 100.4441344619536, 145: 182.2751772320749, 146: 147.3827589397186, 147: 119.74689228633788, 148: 66.21541399777011, 149: 168.6280692240349, 150: 122.45375659190552, 151: 204.7824851765682, 159: 372.13068216244704, 160: 73.13913775005872, 6426: 64.16663999642493, 6427: 52.90574638875919, 6428: 88.1615815079871, 6429: 48.6298241427803, 6430: 48.36759843904976, 6431: 143.95832292446636, 6432: 115.69711457621722, 6433: 58.42384887948249, 6434: 48.19561754949682, 6435: 117.64006326297967, 6436: 62.422901202899986, 6437: 124.17356855068991, 6438: 82.48841903445755, 6439: 63.231795446986396, 6440: 176.0196230246176, 6441: 69.75783884004139, 6442: 65.9321812604744, 6443: 72.9715091815531, 6444: 83.85147863043436, 6445: 65.7294748577726, 6446: 80.49373791778153, 6447: 101.22020735706037, 6448: 46.85967839107997, 6449: 45.385679671733875, 6450: 52.736034074873025, 6451: 56.683932486620385, 6452: 46.927193824756294, 6453: 62.743922417181906, 6454: 70.37417407921106, 6455: 47.67287215060257, 6456: 73.47619872280362, 6457: 65.61901898245038, 6458: 63.97184715665291, 6459: 57.999613909653455, 6460: 71.64540794247891, 6461: 67.14234501514083, 6462: 65.41049220839051, 6463: 91.31788715189475, 6464: 48.22812337425749, 6465: 97.10282303354475, 6466: 61.86304574581858, 6467: 61.60846318307297, 6468: 105.9784937630904, 6469: 51.010927870413056, 6470: 57.55305251299592, 6471: 130.47260104886033, 6472: 75.60123046384606, 6473: 110.10213605252817, 6474: 79.4480074263604, 6475: 45.41565514094138, 6476: 123.80617893258258, 6477: 45.595508827777905, 6478: 73.33209120426835, 6479: 43.7610883504343, 6480: 48.09776234614804, 6481: 35.1579506760859, 6482: 71.44611957640822, 6483: 65.25366400173266, 6484: 72.60379337028871, 6485: 57.50330597057806, 6486: 62.238114695289084, 6487: 108.83749585834032, 6488: 144.46800090525886, 6489: 62.258830007600125, 6490: 61.487568651309985, 6491: 57.36703504917586, 6492: 33.708458225352786, 6493: 74.64804708029187, 6494: 64.67027918816834, 6495: 105.29893052975136, 6496: 142.62918450575927, 6497: 52.826178310208526, 6498: 67.71931967997727, 6499: 57.32468850662282, 6500: 130.82002383106789, 6501: 82.60498694311002, 6502: 59.4434871844587, 6503: 28.641916094575766, 6504: 73.0917693267374, 6505: 43.60376028499855, 6506: 29.529892284028104, 6507: 145.89368013139833, 6508: 78.23962441255561, 6509: 57.74381696402573, 6510: 100.05025991290414, 6511: 44.665401388474464, 6512: 69.06429700074482, 6513: 89.9610559138491, 6514: 29.55954296966517, 6515: 67.36142920159837, 6516: 36.97281048148014, 6517: 76.65728088858849, 6518: 61.56926796186311, 6519: 30.0976971893018, 6520: 106.45180515737988, 6521: 56.85495408277807, 6522: 63.04115983906616, 6523: 63.883068977931295, 6524: 57.62255945801055, 6525: 76.21040088673503, 6526: 44.344296449271646, 6527: 58.54550048147055, 6528: 70.41499325860364, 6529: 43.029215288941714, 6530: 73.06964925677607, 6531: 67.97944378324694, 6532: 54.54753886758993, 6533: 70.28335210779505, 6534: 92.12575835663687, 6535: 75.52981613306173, 6536: 130.18818773785586, 6537: 92.13345699914647, 6538: 54.60561717567248, 6539: 176.08579712754735, 6540: 113.68166543919799, 6541: 83.93151159521616, 6542: 58.86036593743161, 6543: 119.71451834789636, 6544: 36.811320758169984, 6545: 52.92665801600119, 6546: 70.81022585781004, 6547: 89.47632003368345, 6548: 55.029708975246784, 6549: 40.56695981622665, 6550: 49.09352877071657, 6551: 37.50678271533274, 6552: 87.40436884150476, 6553: 60.06147878448502, 6554: 51.26993097835934, 6555: 90.57174345902688, 6556: 84.20792181253344, 6557: 44.60636973892097, 6558: 59.600468288839956, 6559: 74.89523163387035, 6560: 57.57317532713772, 6561: 130.1689133100803, 6562: 56.2109618586937, 6563: 58.99979948535233, 6564: 61.77662091070762, 6565: 44.39672728423567, 6566: 46.9852731952276, 6567: 110.90320727491886, 6568: 127.57336284574389, 6569: 52.54306597337522, 6570: 46.01170251297031, 6571: 83.77059540018455, 6572: 80.79321338229255, 6573: 55.46625268414744, 6574: 56.331448103424776, 6575: 41.80981365861049, 6576: 41.01043715520187, 6577: 93.95562223313112, 6578: 74.41665184608216, 6579: 65.98160344161471, 6580: 52.72027542497492, 6581: 57.13630750864268, 6582: 60.865735049736315, 6583: 68.29350914887351, 6584: 50.87495764022503, 6585: 32.31883096290483, 6586: 57.94830280958071, 6587: 65.222350494112, 6588: 48.266733069799486, 6589: 69.9429787922307, 6590: 82.98754105327377, 6591: 33.78538636602344, 6592: 71.50978070681565, 6593: 51.54445557366396, 6594: 68.49085299503452, 6595: 66.2735694426604, 6596: 23.81889414900624, 6597: 166.51176650026483, 6598: 94.56512650323761, 6599: 56.34071535495287, 6600: 76.28583407571382, 6601: 60.05526618377658, 6602: 74.09894487326532, 6603: 47.82080140005774, 6604: 86.65545728410045, 6605: 43.16289000727892, 6608: 81.66922673137276, 6609: 34.56821965988074, 6610: 31.903151684775345, 6611: 105.54082243292564, 6612: 17.648119730803497, 6613: 140.7816078910555, 6614: 52.84987841188335, 6615: 79.87379644014126, 6616: 60.31549374547791, 6617: 73.3330701139191, 6618: 117.17377930162257, 6619: 50.13797369828135, 6620: 61.65420658580459, 6621: 70.16140349320047, 6622: 71.199597263438, 6623: 59.023418183925884, 6624: 56.303384872320635, 6625: 71.98103670932387, 6626: 56.78538901085366, 6627: 58.49478186237496, 6628: 62.71346553282433, 6629: 69.10662817509778, 6630: 63.70114989798709, 6631: 116.11077850420041, 6632: 95.27761407772876, 6633: 39.239598777676356, 6634: 43.79415472223319, 6635: 49.19092533258245, 6636: 49.705491182636806, 6637: 75.13074251230631, 6638: 57.97739228463713, 6639: 99.606735691808, 6640: 58.50972963006733, 6641: 42.2804012695544, 6642: 35.700039703921824, 6643: 72.64898646861322, 6644: 83.7396281291523, 6645: 108.57856981487093, 6646: 56.92314302392668, 6647: 54.00051148341287, 6648: 67.76429822734639, 6649: 102.2662839381892, 6650: 61.96439706154817, 6651: 19.17191376010999, 6652: 57.12310632685188, 6653: 51.19225609172809, 6654: 65.63662782831707, 6655: 41.421956825120745, 6661: 47.44911099842183, 6662: 45.5788194802881, 6663: 64.61350482431457, 6664: 38.09726665779274, 6665: 121.29330137476715, 6666: 74.39432197163495, 6667: 49.19308566490485, 6668: 81.19683062456721, 6669: 122.3628756268542, 6670: 86.76682065628626, 6671: 75.20909922435463, 6672: 36.77875818434377, 6673: 44.47742476733918, 6674: 28.32034544105211, 6675: 61.2320310926466, 6681: 58.45260064746538, 6682: 48.16651908045962, 6683: 64.74427566646426, 6684: 39.87405546678225, 6685: 45.68451671354994, 6686: 43.752548957109084, 6687: 111.14633215191289, 6688: 83.79753249982718, 6689: 79.05159254469439, 6690: 82.5387630176607, 6691: 49.421989522669925, 6692: 36.612231249001546, 6693: 67.76145494389574, 6694: 46.83528020096344, 6695: 65.72596620813292, 6696: 45.46898579310891, 6697: 43.39278982886866, 6698: 60.10903257052939, 6699: 90.41588861030273, 6700: 60.61691622088697, 6701: 159.5588771620912, 6702: 32.797605241642756, 6703: 49.86396520422018, 6704: 54.58747231302448, 6705: 34.64906199654399, 6708: 65.08522837294854, 6709: 42.02849389071137, 6710: 117.86231224074221, 6711: 6.635477815604268, 6712: 110.40903659172166, 6713: 71.56680588785301, 6714: 24.42255473006049, 6715: 48.8766276805926, 6716: 64.0587114131504, 6717: 75.03586296539108, 6718: 46.59361850676338, 6719: 56.33346321357796, 6720: 96.86459307557793, 6721: 56.539409754333725, 6722: 61.38790868143478, 6723: 40.921598331084574, 6724: 91.10168222504907, 6725: 64.32524879608754, 6726: 39.780408779622014, 6727: 44.37206355218141, 6728: 40.26072030273694, 6729: 61.76699390160882, 6730: 119.94758331020252, 6731: 70.511361384805, 6732: 103.10111554640352, 6733: 58.11943995729203, 6734: 55.19653758811387, 6735: 40.755313027742844, 6736: 54.123718093945904, 6737: 89.97821065467552, 6738: 125.98650903697187, 6739: 54.272165846465136, 6740: 141.36551809920238, 6741: 40.63734555734095, 6742: 70.96512247598966, 6743: 57.23869802762876, 6744: 71.20404506876864, 6745: 54.022462792767264, 6746: 31.104620477769778, 6747: 65.49188936221722, 6748: 84.25985699538874, 6749: 107.70951802481943, 6750: 81.77112210330644, 6751: 34.2848669902377, 6752: 68.5371490255796, 6753: 3.7736798854514135, 6754: 43.496001471837246, 6755: 4.052914755709188, 6756: 58.96693334214476, 6757: 29.52445789462808, 6758: 48.26676953914473, 6759: 70.95967170387712, 6760: 83.10802105597628, 6761: 55.63687029850278, 6762: 41.67941072763985, 6763: 45.94988806323407, 6764: 156.3288937996851, 6765: 198.98291809540288, 6766: 54.003627264010504, 6767: 39.05241438705443, 6768: 60.67904706256474, 6769: 68.74124417805173, 6770: 62.32282279017436, 6771: 81.67850844082328, 6772: 50.15576103587895, 6773: 52.90393861289944, 6774: 38.54379411332455, 6775: 23.63832475326089, 6776: 39.15987744416763, 6777: 28.3184277232514, 6778: 50.717233202732324, 6779: 72.13913963071249, 6780: 37.46975605544686, 6781: 37.82585867603325, 6782: 83.30933453916393, 6783: 96.20614002398538, 6784: 82.54448403290792, 6785: 42.06750914219348, 6786: 69.58241462186594, 6787: 44.65829100508823, 6788: 53.89406083004926, 6789: 56.85902013906176, 6790: 48.40225868079667, 6791: 51.29698013425694, 6792: 7.597783550553821, 6793: 58.9750805688389, 6794: 38.87857460931863, 6795: 61.42228638684184, 6796: 65.00569042766973, 6797: 42.95977930300914, 6798: 50.35323932227047, 6799: 75.52452369086099, 6800: 48.65500902790721, 6801: 60.62482020971985, 6802: 46.203483239068866, 6803: 36.8164683731182, 6804: 40.21393531055582, 6805: 91.68388783071273, 6806: 32.370499183371905, 6807: 48.509128817865424, 6808: 46.218568547663004, 6809: 52.46863496630207, 6810: 88.80608881249579, 6811: 45.243031328593645, 6812: 36.47212366956031, 6813: 56.60727724727105, 6814: 49.7103271116114, 6815: 140.3386828361655, 6816: 85.64550102582567, 6817: 47.476373095051116, 6818: 64.62783684134449, 6819: 33.840124188147406, 6820: 66.88387259220079, 6821: 54.568298103967265, 6822: 54.14223605262018, 6823: 28.28094431203931, 6824: 43.83054218525817, 6825: 62.458727724110105, 6827: 56.64612896453654, 6828: 17.049852695301905, 6829: 10.286518049943677, 6830: 8.519365100573353, 6831: 41.66346684816174, 6832: 54.43262271595767, 6833: 62.5171167320422, 6834: 26.62797830661812, 6835: 45.05454391430029, 6836: 45.53691866895603, 6837: 36.73451019517978, 6838: 63.88750927681833, 6839: 48.84997142871889, 6840: 5.975621540467253, 6841: 27.627898407904976, 6842: 10.650771798152425, 6843: 41.10522718899598, 6844: 113.05968766076764, 6845: 61.222531573855804, 6846: 72.91518472412834, 6847: 57.7122021771834, 6848: 40.55615606208453, 6849: 46.86334354438277, 6850: 53.28775854510143, 6851: 50.13125281700319, 6852: 51.47891017294806, 6853: 9.463036023760525, 6854: 66.04351630061015, 6855: 78.48478372650423, 6856: 46.16311457300312, 6857: 14.279103348087148, 6858: 38.366034450901054, 6859: 10.419483572602033, 6860: 54.98839872469219, 6861: 65.81557819106727, 6862: 72.63978988943735, 6863: 43.073342690487905, 6864: 14.71479256532256, 6865: 66.09277953173667, 6866: 59.4984913422576, 6867: 9.382066821533623, 6868: 8.461356324353654, 6869: 9.979457436184019, 6870: 8.60265845174492, 6871: 33.46777552371372, 6872: 10.656793447194275, 6873: 42.44381342159908, 6874: 65.76600870004243, 6875: 80.31086579937079, 6876: 52.650104561018885, 6877: 47.61627587896751, 6878: 42.01393828309487, 6879: 65.18918966953709, 6880: 41.81807046981244, 6881: 15.134988033356978, 6882: 72.96958366211088, 6883: 51.47962927727865, 6884: 12.04040692979828, 6885: 40.63254992972429, 6886: 56.545103002423225, 6887: 69.60632677262387, 6888: 56.28903145879515, 6889: 54.61329144282421, 6890: 78.41068404046136, 6891: 61.81836087074863, 6892: 21.852852624164285, 6893: 9.438465772365948, 6894: 76.7442706351433, 6895: 5.6220799549060425, 6896: 12.95170197023333, 6897: 7.408935042173314, 6898: 52.903155645028775, 6899: 11.072205669159391, 6900: 50.30799585785692, 6901: 32.55715255752576, 6902: 62.25511986043713, 6903: 45.02060508785607, 6904: 8.337242138240988, 6905: 10.655902869643594, 6906: 45.410375039955724, 6907: 80.67343347861105, 6908: 35.98234905277196, 6909: 48.905702868636354, 6910: 9.462038837378653, 6911: 41.15459491512061, 6912: 40.66717182032091, 6913: 68.42726971632509, 6914: 39.99269401350653, 6915: 57.34349328705176, 6916: 9.808722311040713, 6917: 10.758032352036361, 6918: 40.53374514530909, 6919: 95.14787402295399, 6920: 60.14665313814231, 6921: 50.050570444995586, 6922: 58.75159450494164, 6923: 11.381613673403562, 6924: 28.457076829001494, 6925: 46.90186225351109, 6926: 45.860268877280554, 6927: 11.934195084659141, 6928: 27.718215204453713, 6929: 30.912001480027104, 6930: 77.7499930559975, 6931: 50.22429362022348, 6932: 59.477289719418806, 6933: 135.01790101734906, 6934: 11.828495261261176, 6935: 114.18402046950129, 6936: 24.64359957076264, 6937: 47.015583162099375, 6938: 38.37342214605399, 6939: 12.120318223819881, 6940: 10.122747281846861, 6941: 42.267342466236975, 6942: 10.199236716796735, 6943: 57.046280496695594, 6944: 10.726557593819884, 6945: 71.95182819217018, 6946: 62.47725357722038, 6947: 60.244177962335506, 6948: 51.28306524011917, 6949: 40.13749828250933, 6950: 74.12202750269999, 6951: 12.327051584742449, 6952: 73.76886693343874, 6953: 33.56968182562834, 6954: 59.19692660855499, 6955: 47.45692328552734, 6956: 46.28872832832247, 6957: 7.853625541082975, 6958: 44.78384588038629, 6959: 82.93018206291052, 6960: 50.14312701737941, 6961: 75.33547394327968, 6962: 36.202021238696105, 6963: 9.687252661842045, 6964: 10.003887847116022, 6968: 114.64053683364922, 6969: 8.70982774533223, 6970: 39.06284754484983, 6971: 43.08072432526142, 6972: 73.17749161671598, 6973: 46.784496495780786, 6974: 26.981725515037933, 6975: 28.01265267712667, 6976: 10.364855706520459, 6977: 119.30480768710783, 6978: 37.211032930121824, 6979: 109.35625870759033, 6980: 57.62424207183209, 6981: 37.40779211469026, 6982: 53.491116059983206, 6983: 10.554264656183769, 6984: 42.839689527471734, 6985: 64.33613854780359, 6986: 9.744417676261905, 6987: 40.13589362638084, 6988: 58.801432467088944, 6989: 50.7356199094429, 6990: 8.00421849629612, 6991: 11.683170210792808, 6992: 50.43487316671418, 6993: 84.54162590965522, 6994: 99.12358503136227, 6995: 76.80970714816173, 6996: 69.21408529206244, 6997: 9.45230815431217, 6998: 49.47021911831513, 6999: 9.884953638932302, 7000: 61.20515710323673, 7001: 99.95640302495488, 7002: 69.51293315297332, 7003: 61.91363818970017, 7004: 58.003547335670206, 7005: 42.95939381917989, 7006: 13.19106159244814, 7007: 54.74025416702972, 7008: 79.71963156551574, 7009: 95.83899224353111, 7010: 48.933045130678245, 7011: 13.169044763956421, 7012: 50.05186265296142, 7013: 43.152299241140774, 7014: 29.821120482139683, 7015: 45.56979227882993, 7016: 38.588084934865634, 7017: 49.445490230721106, 7018: 85.21337175352667, 7019: 75.03973983849198, 7020: 75.35269761663403, 7021: 8.7094138324415, 7022: 55.22196417686985, 7023: 10.723457612075844, 7024: 38.81811408890843, 7025: 77.23262030400159, 7026: 76.39506822970006, 7027: 53.248891199785724, 7028: 52.9771677646615, 7029: 75.11272094552801, 7030: 9.38387115912832, 7031: 67.10894545855109, 7032: 71.8528892924499, 7033: 12.196659580589337, 7034: 44.9892366697473, 7035: 58.186136356657954, 7036: 62.48711723135346, 7037: 49.12900345693342, 7038: 70.85543461153512, 7039: 10.074061017543205, 7040: 11.036698346109292, 7041: 32.34546097272777, 7042: 118.15951295389738, 7043: 23.97496864315278, 7044: 171.62151200558017, 7045: 46.31961183392443, 7046: 78.36938239919829, 7047: 91.76954819591019, 7048: 43.15625481502368, 7049: 40.59811206928345, 7050: 57.387326037310956, 7051: 37.08573743021838, 7052: 48.90544290362658, 7053: 55.47614732021526, 7054: 11.835414904500697, 7055: 57.12522383083507, 7056: 14.007822073570944, 7057: 81.86808235308715, 7058: 44.093094963171644, 7059: 11.040469978132426, 7060: 66.75800323195334, 7061: 116.38737293063136, 7062: 41.6564714911881, 7063: 65.93432861948627, 7064: 55.020262185029495, 7065: 51.14243057037275, 7066: 68.52464938933905, 7067: 58.4842153159391, 7068: 105.95185251333957, 7069: 81.44983549620493, 7070: 40.98286420426259, 7071: 40.93855043215863, 7072: 81.06127765745707, 7073: 11.254693816071137, 7074: 51.692170836375176, 7075: 71.25531557721374, 7076: 62.663899583207666, 7077: 53.39575384625398, 7078: 50.36983921458272, 7079: 45.63865807919237, 7080: 46.03524082948881, 7081: 59.65118448388595, 7082: 44.36006050227838, 7083: 37.045221243481386, 7084: 35.2326205066598, 7085: 57.346168062121095, 7086: 10.74139569234871, 7087: 32.02929363062554, 7088: 12.836560637039897, 7089: 136.9934106020347, 7090: 41.283295358476344, 7091: 31.204763441525397, 7092: 62.51635064611162, 7093: 45.60997823501564, 7094: 42.46292072808608, 7095: 38.97640188743389, 7096: 47.13490447340407, 7097: 26.54214464793543, 7098: 31.770735086190065, 7099: 87.35896785697035, 7100: 75.47067829074633, 7101: 43.677337297920644, 7102: 52.281637479054666, 7103: 87.19509106929202, 7104: 58.91729022227528, 7105: 65.76295886647858, 7106: 12.766877956841489, 7107: 51.37667324600359, 7108: 95.82389256799726, 7109: 86.09147433502689, 7110: 49.7330615375304, 7111: 28.746220334251692, 7112: 53.578580715253395, 7113: 11.004232990705294, 7114: 13.457700973795879, 7115: 71.73420482439101, 7116: 53.55239096615632, 7117: 13.309002077799013, 7118: 72.61048114128826, 7119: 71.4044915375071, 7120: 92.70474565229051, 7121: 66.69262858728388, 7122: 62.16635611099967, 7123: 50.61862126041019, 7124: 87.41534116814717, 7125: 88.70302795604884, 7126: 83.54329345510796, 7127: 143.5424828426515, 7128: 69.96559340877171, 7129: 13.08056307585138, 7130: 114.18578931313118, 7131: 67.74224734761924, 7132: 73.23603595318707, 7133: 36.05318693212817, 7134: 68.65112707344106, 7135: 57.32471280112669, 7136: 10.619089190675014, 7137: 68.97699671039919, 7138: 62.35718659344761, 7139: 48.530929500711196, 7140: 59.41968379411491, 7141: 43.2676916773048, 7142: 9.915718403193084, 7143: 43.62460771193844, 7144: 28.233544095893567, 7145: 58.50609836770783, 7146: 62.89711389585873, 7147: 39.56688438722337, 7148: 114.6402725845397, 7149: 78.75354221110527, 7150: 64.65053049093191, 7151: 66.59605080285868, 7152: 101.0266259554476, 7153: 104.90255802970094, 7154: 78.87597174072795, 7155: 71.89963780626792, 7156: 34.88213693036013, 7157: 52.62767357678448, 7158: 65.450725000418, 7159: 80.38835091746759, 7160: 69.95549045566082, 7161: 41.30117194391228, 7162: 30.392458495293845, 7163: 40.681056337467496, 7164: 86.85990575571302, 7165: 121.1222672516205, 7166: 74.87068412429578, 7167: 141.23289269920932, 7168: 43.58632655373851, 7169: 61.33395327902253, 7170: 28.375333280269615, 7171: 43.70158040637485, 7172: 33.015142429266106, 7173: 60.43443970217891, 7174: 89.56430457753466, 7178: 73.3253728936348, 7179: 81.94315416602774, 7180: 111.51215582808719, 7181: 24.100628651578912, 7182: 46.05290329860413, 7183: 643.4938673898522, 7184: 68.02945763799046, 7189: 69.4960237350055, 7190: 88.07835182878006, 7191: 63.77937208578092, 7192: 58.61507037480047, 7193: 108.21807512414152, 7194: 43.73229443426839, 7195: 54.69837711348398, 7196: 60.789712764238175, 7197: 45.349724305502846, 7198: 41.863399655188445, 7199: 67.64900908411734, 7200: 44.39761021567097, 7201: 66.77505290955567, 7202: 112.71551180052634, 7203: 51.301474410577136, 7204: 80.15062660588922, 7205: 47.44632344121119, 7206: 56.906540148597806, 7207: 57.98617017132332, 7208: 129.99506653982073, 7209: 38.02142329572286, 7210: 37.595865696822614, 7211: 73.65634952334273, 7212: 61.497537395737965, 7213: 55.042614205831974, 7214: 54.547191195158604, 7215: 71.29150841783039, 7216: 78.89718782025332, 7217: 30.511128307990337, 7218: 50.952789652215, 7219: 98.97646234262726, 7220: 41.43085840647736, 7221: 82.84362183607199, 7222: 47.43266617034945, 7223: 95.1173045327887, 7224: 117.5444820725517, 7225: 68.90674053835576, 7226: 70.72015444342908, 7227: 60.02825117975765, 7228: 28.446174575126147, 7229: 54.473930843154946, 7230: 53.42034077827592, 7231: 97.81442288384731, 7232: 65.03198880552803, 7233: 51.930949341006965, 7234: 54.851497425941375, 7235: 40.14727808103919, 7236: 44.56971743894245, 7237: 45.82972827928589, 7238: 45.66935824226063, 7239: 66.46455400321547, 7240: 40.14711479821248, 7241: 50.98238920790259, 7242: 41.87490609079042, 7243: 79.54436221913332, 7244: 28.326544302815456, 7245: 51.90008660482161, 7246: 81.97657073229144, 7247: 133.11364577703517, 7248: 42.092743098722956, 7249: 52.32394838970306, 7250: 55.47364074163414, 7251: 55.80124841501822, 7252: 84.08129011998669, 7253: 38.71757286262468, 7254: 57.90032006996719, 7255: 56.1240948664635, 7256: 84.25481324857476, 7257: 29.841267940054223, 7258: 49.59215136645999, 7259: 65.8048423673851, 7260: 65.20344353399236, 7261: 108.1793333595468, 7262: 42.52510656773802, 7263: 73.60906903042726, 7264: 83.08083437591247, 7265: 57.71350394734901, 7266: 91.02580404601139, 7267: 76.19040832833477, 7268: 36.4119049447522, 7269: 61.110283800970045, 7270: 39.706507903175556, 7271: 40.85182316198977, 7272: 79.4578626208951, 7273: 37.286693585635824, 7274: 44.07496627985475, 7275: 31.16503251771453, 7276: 43.84659761077405, 7277: 81.80207029786364, 7278: 104.11274118739306, 7279: 48.51089246444488, 7280: 60.82642129256571, 7281: 92.03699096443415, 7282: 55.37702217397168, 7283: 65.9944690303988, 7284: 54.49298783227872, 7285: 47.47613649327571, 7286: 81.54778548672783, 7287: 145.76632319599744, 7288: 29.396231514434383, 7289: 38.27516834512843, 7290: 39.74973766479409, 7291: 27.943031888359002, 7292: 47.96780226913238, 7293: 33.32372065738006, 7294: 58.61847990114805, 7295: 46.764134153737324, 7296: 119.16940646019992, 7297: 43.14316478434162, 7298: 80.52572668665995, 7299: 77.33614652515632, 7300: 43.27570319753148, 7301: 36.57297876238463, 7302: 23.24796760688287, 7303: 46.259208472538305, 7304: 48.73486250610664, 7305: 30.602779235125986, 7306: 31.48375819381701, 7307: 51.29696099463345, 7308: 29.854462441241584, 7309: 31.86816043277709, 7310: 160.5219922042001, 7311: 32.83391580055261, 7312: 37.95739646989518, 7313: 183.05757729654795}\n"
     ]
    },
    {
     "name": "stderr",
     "output_type": "stream",
     "text": [
      "\n"
     ]
    }
   ],
   "source": [
    "import math\n",
    "import queue\n",
    "\n",
    "documentLength = {}\n",
    "N = len(documentRoot)\n",
    "\n",
    "for i in tqdm(range(len(documentRoot))):\n",
    "    \n",
    "    docID = get_docID[i]\n",
    "    length = 0\n",
    "    document = documentRoot[i]\n",
    "    q = queue.Queue()\n",
    "    q.put([document, ''])\n",
    "\n",
    "    while q.qsize() > 0:\n",
    "\n",
    "        current = q.get()\n",
    "        reference = current[0]\n",
    "        word = current[1]\n",
    "\n",
    "        if reference.words > 0:\n",
    "            df = len(collection.get_doc_list(word, 0))\n",
    "            idf = math.log10(N/df)\n",
    "            # print(word, reference.words, df)\n",
    "            length += (reference.words * idf) ** 2\n",
    "\n",
    "        for i in range(256):\n",
    "            if reference.children[i] is not None:\n",
    "                new_word = word + chr(i)\n",
    "                q.put([reference.children[i], new_word])\n",
    "\n",
    "    # print(length**0.5)\n",
    "    documentLength[docID] = length**0.5\n",
    "\n",
    "print(documentLength)"
   ]
  },
  {
   "cell_type": "code",
   "execution_count": 37,
   "metadata": {},
   "outputs": [],
   "source": [
    "# import sys\n",
    "# print(sys.getsizeof(documentRoot))"
   ]
  },
  {
   "cell_type": "code",
   "execution_count": 32,
   "metadata": {
    "colab": {},
    "colab_type": "code",
    "id": "Go9w6bB9rJfg",
    "outputId": "2e5b7bc8-2e68-4de8-f81d-a142a989c902"
   },
   "outputs": [
    {
     "name": "stdout",
     "output_type": "stream",
     "text": [
      "['Barack', 'Obama', 'kill', 'person']\n",
      "4\n"
     ]
    }
   ],
   "source": [
    "query = \"Barack Obama killed a person\"\n",
    "final_query = lemma_stop(query)\n",
    "for i in range(len(final_query)):\n",
    "    final_query[i] = unidecode.unidecode(final_query[i])\n",
    "print(final_query)\n",
    "print(len(final_query))"
   ]
  },
  {
   "cell_type": "code",
   "execution_count": 33,
   "metadata": {
    "colab": {},
    "colab_type": "code",
    "id": "j4Kqgk9hrJfj",
    "outputId": "04bfaa8a-8053-4ab7-e55a-cee2d47edb6f"
   },
   "outputs": [],
   "source": [
    "tf_query = {}\n",
    "for w in final_query:\n",
    "    if w not in tf_query:\n",
    "        tf_query[w] = 1\n",
    "    else:\n",
    "        tf_query[w] += 1\n",
    "        \n",
    "    # Test code just to see distribution of query terms in the documents\n",
    "    \n",
    "    # print(w)\n",
    "    # df = len(collection.get_doc_list(w,0))\n",
    "    # print(collection.get_doc_list(w,0))\n"
   ]
  },
  {
   "cell_type": "code",
   "execution_count": 34,
   "metadata": {
    "colab": {},
    "colab_type": "code",
    "id": "2dYc0AfgrJfm",
    "outputId": "54f23ec3-06e0-41d9-c821-6685b861d395"
   },
   "outputs": [],
   "source": [
    "# print(subset[1][4])"
   ]
  },
  {
   "cell_type": "code",
   "execution_count": 35,
   "metadata": {},
   "outputs": [],
   "source": [
    "# print(type(documentRoot[1]), get_docID[1])\n",
    "# document = documentRoot[1]\n",
    "# N = len(documentRoot)\n",
    "\n",
    "# import queue\n",
    "# import math\n",
    "\n",
    "# length = 0\n",
    "# q = queue.Queue()\n",
    "# q.put([document, ''])\n",
    "\n",
    "# while q.qsize() > 0:\n",
    "    \n",
    "#     current = q.get()\n",
    "#     reference = current[0]\n",
    "#     word = current[1]\n",
    "    \n",
    "#     if reference.words > 0:\n",
    "#         df = len(collection.get_doc_list(word, 0))\n",
    "#         idf = math.log10(N/df)\n",
    "#         # print(word, reference.words, df)\n",
    "#         length += (reference.words * idf) ** 2\n",
    "    \n",
    "#     for i in range(256):\n",
    "#         if reference.children[i] is not None:\n",
    "#             new_word = word + chr(i)\n",
    "#             q.put([reference.children[i], new_word])\n",
    "\n",
    "# print(length**0.5)"
   ]
  },
  {
   "cell_type": "markdown",
   "metadata": {
    "colab_type": "text",
    "id": "rBHDg-lJrJfo"
   },
   "source": [
    "***Ranked Retrieval based on TF-IDF Score :***\n"
   ]
  },
  {
   "cell_type": "code",
   "execution_count": 37,
   "metadata": {
    "colab": {},
    "colab_type": "code",
    "id": "lfT-kdUqrJfp",
    "outputId": "3c95efd0-76c9-4dfe-e425-e79c089931ee",
    "scrolled": false
   },
   "outputs": [
    {
     "name": "stdout",
     "output_type": "stream",
     "text": [
      "-------------------------------------\n",
      "Term in query =  Barack\n",
      "\n",
      "df =  11\n",
      "idf =  1.9586073148417749\n",
      "-------------------------------------\n",
      "Term in query =  Obama\n",
      "\n",
      "df =  37\n",
      "idf =  1.431798275933005\n",
      "-------------------------------------\n",
      "Term in query =  kill\n",
      "\n",
      "df =  131\n",
      "idf =  0.8827287043442358\n",
      "-------------------------------------\n",
      "Term in query =  person\n",
      "\n",
      "df =  234\n",
      "idf =  0.6307841425898572\n",
      "\n",
      "\n",
      "\n",
      "============================================\n",
      "\n",
      "doc ID =  51\n",
      "Keywords:\n",
      "Obama \n",
      "\n",
      "      The First Lady needed a turnip.By the fall of 2014, “Turn Down for What,” Lil Jon and DJ Snake’s triple-platinum trap-meets-EDM single, had swallowed pop culture whole. Jimmy Fallon and Robin Wright were dancing to it on The Tonight Show Jonah Hill and Channing Tatum posed while it blared on the soundtrack of 22 Jump Street across YouTube, teens and kittens alike bobbed their heads along. Spin called it “an undeniable force.”                    @MichelleObamaAn exclusive look at how the Fi\n",
      "tf-idf score= 5.701930950606366\n",
      "\n",
      "doc ID =  6846\n",
      "Keywords:\n",
      "Barack Obama \n",
      "\n",
      "      Net neutrality might be the most contentious problem the Federal Communications Commission has faced in recent history. The past year has been marked by a landmark legal case that struck down the 2010 Open Internet rules, and a series of polarizing proposals for new ones. Protestors have driven a record number of comments to the FCC this morning, a group blocked off Chairman Tom Wheeler's driveway to decry the latest series of rules. And now, President Barack Obama has urged the FCC to tak\n",
      "tf-idf score= 3.5702782288705532\n",
      "\n",
      "doc ID =  6998\n",
      "Keywords:\n",
      "kill Barack Obama \n",
      "\n",
      "      Exactly one year ago today, The Guardian published a four-page court order that would become one of the year's biggest news stories. Issued by the low-profile Foreign Intelligence Surveillance Court, it required Verizon Business Network Services to hand over phone metadata, including numbers dialed and the time and duration of calls. But this wasn't a single law enforcement request — it applied to every Verizon record over a three-month period. As the world would soon learn, it was only on\n",
      "tf-idf score= 2.6589476644255976\n",
      "\n",
      "doc ID =  7066\n",
      "Keywords:\n",
      "Barack Obama \n",
      "\n",
      "      When the Soviet Union officially collapsed in December, 1991, the New York Times published a lengthy, obituary-style piece about the former superpower, describing it as \"a nation straddling two continents and two cultures, forever torn and forever fired by the creative clash at the fault line of East and West.\" The end of the Cold War was supposed to temper that divide, as Russia gradually integrated with the West. But nearly 25 years later, that fault line now seems as pronounced as ever.\n",
      "tf-idf score= 3.5702782288705532\n",
      "\n",
      "doc ID =  6812\n",
      "Keywords:\n",
      "Obama \n",
      "\n",
      "      This morning brought some alarming news. Just two days after President Obama promised a proportionate response to the North Korean attack on Sony, the country mysteriously disappeared from the internet and stayed offline for the next 10 hours. Given the timing, the question was inevitable: was this the retaliation Obama had promised? But while it's tempting to connect the two, early reports suggest it's very unlikely that the downtime was the work of a government actor. \"I'm quite sure tha\n",
      "tf-idf score= 5.701930950606366\n",
      "\n",
      "doc ID =  7141\n",
      "Keywords:\n",
      "person Obama \n",
      "\n",
      "      Ever since leaked NSA documents first started popping up this summer, the battle against NSA surveillance has proceeded on multiple fronts: legislators pushing for new laws, journalists pushing for new stories, and tech companies fighting to regain users&amprsquo trust. Yesterday, one of the major fronts closed down. Since July, tech companies had been putting pressure on the Department of Justice, fighting for the right to say more about their interactions with law enforcement. Yesterday \n",
      "tf-idf score= 3.5702782288705532\n",
      "\n",
      "doc ID =  7208\n",
      "Keywords:\n",
      "person Barack Obama \n",
      "\n",
      "      Even now that the White House&amprsquos self-imposed November 30th deadline has passed, members of the emergency tech team assigned to fix Healthcare.gov remain glued to computers in a Maryland office, working to repair the most important website the government has ever launched.On the walls, 16 large flat-screen monitors detail how the site is performing in real time, showing bottlenecks, traffic to different parts of the site, and common error messages.This, what&amprsquos on these scree\n",
      "tf-idf score= 2.6589476644255976\n",
      "\n",
      "doc ID =  78\n",
      "Keywords:\n",
      "person kill \n",
      "\n",
      "      Last May, a member of Alberta’s rat patrol paid a visit to a farm on the outskirts of Sibbald, a small town near the Saskatchewan border. He found holes bored into the foundation of a grain silo and feces littering the trash pit: telltale signs of a rat infestation, probably 100 strong. He scattered aquamarine pellets of poison, then returned with seven pest control officers, including Phil Merrill, head of the province’s rat patrol. Using a crane, they hoisted the granary off its foundati\n",
      "tf-idf score= 3.5702782288705532\n",
      "\n",
      "doc ID =  7038\n",
      "Keywords:\n",
      "Barack Obama \n",
      "\n",
      "      Mike Taylor, who lives in Dublin, Georgia, says the National Security Agency has been watching him since 2006. He knows because they communicate with him. \"They talk to me on a daily basis,\" he explains evenly over the phone. \"They insult my looks. They insult my intelligence. They use racial slurs against me.\"He didn’t know why he was being surveilled, however, so he filed a Freedom of Information Act request to find out. When the NSA blew him off with its infamous boilerplate \"neither co\n",
      "tf-idf score= 3.5702782288705532\n",
      "\n",
      "doc ID =  7297\n",
      "Keywords:\n",
      "Obama \n",
      "\n",
      "              On Saturday, the US Treasury Department said it would not use its powers to mint commemorative platinum coins to sidestep the federal government's current debt ceiling. The daring proposal, exploiting a quirk of language in a giant 1997 appropriations bill, had sparked a popular internet campaign around the Twitter hashtag \"#MintTheCoin\" and attracted serious attention from economists and politicians.\"Neither the Treasury Department nor the Federal Reserve believes that the law can\n",
      "tf-idf score= 5.701930950606366\n",
      "\n",
      "\n",
      "\n",
      "============================================\n"
     ]
    }
   ],
   "source": [
    "# scores[i] stores the dot product of the tf-idf score vectors of the query and document of docID i in the corpus\n",
    "scores = {}\n",
    "\n",
    "# N is the total number of documents in the corpus\n",
    "N = len(documentRoot)\n",
    "\n",
    "# wordsInDoc[i] is a sorted list of (word, score) tuples where\n",
    "# score is the tf-idf score for the (word, <ith doc>) pair\n",
    "wordsInDoc = {}\n",
    "\n",
    "import math\n",
    "import bisect\n",
    "\n",
    "for query_term in tf_query:\n",
    "    \n",
    "    docs_having_query_term = collection.get_doc_list(query_term, 0)\n",
    "    df = len(docs_having_query_term)\n",
    "    idf = 0\n",
    "    \n",
    "    print('-------------------------------------')\n",
    "    print('Term in query = ', query_term)\n",
    "    # print('List of documents with this term=', docs_having_query_term)\n",
    "    print()\n",
    "    \n",
    "    if df == 0:\n",
    "        idf = 0\n",
    "    else:\n",
    "        idf = math.log10(N/df)\n",
    "        \n",
    "    print('df = ',df)\n",
    "    print('idf = ',idf)\n",
    "    \n",
    "    tfidf_query_term = tf_query[query_term] * idf\n",
    "        \n",
    "    for docID in docs_having_query_term:\n",
    "        \n",
    "        tf_doc = getReference[docID].count_words(query_term, 0)\n",
    "        # print('tf for doc',doc,'is',tf_doc)\n",
    "        tfidf_doc_query = tf_doc * idf\n",
    "        \n",
    "        # print('tfidf for doc',doc,'is',tfidf_doc)\n",
    "        # print()\n",
    "        \n",
    "        if docID not in scores:\n",
    "            scores[docID] = (tfidf_query_term * tfidf_doc_query)\n",
    "            wordsInDoc[docID] = []\n",
    "            bisect.insort(wordsInDoc[docID], [tfidf_query_term * tfidf_doc_query, query_term])\n",
    "        else:\n",
    "            scores[docID] += (tfidf_query_term * tfidf_doc_query)\n",
    "            bisect.insort(wordsInDoc[docID], [tfidf_query_term * tfidf_doc_query, query_term])\n",
    "        \n",
    "for doc in scores:\n",
    "    if documentLength[doc] != 0:\n",
    "        scores[doc] = scores[doc]/ math.sqrt(documentLength[doc])\n",
    "\n",
    "sorted_scores = sorted(scores.items(), key = lambda kv : kv[1] , reverse = True)\n",
    "\n",
    "maxshow = min(10, len(scores))\n",
    "\n",
    "print('\\n\\n')\n",
    "print('============================================')\n",
    "\n",
    "for i in range(maxshow):\n",
    "    \n",
    "    # print(i)\n",
    "    print()\n",
    "    docID = sorted_scores[i][0]\n",
    "    print('doc ID = ', docID)\n",
    "    cnt = 0\n",
    "    print('Keywords:')\n",
    "    for i in range(len(wordsInDoc[docID])):\n",
    "        print(wordsInDoc[docID][i][1], end = ' ')\n",
    "    print()\n",
    "    print()\n",
    "    count = 0\n",
    "    for word in subset[get_index[docID]][4]:\n",
    "        print (word, end = '')\n",
    "        count += 1\n",
    "        if count == 500:\n",
    "            break\n",
    "    print()\n",
    "    print('tf-idf score=', sorted_scores[i][1])\n",
    "    \n",
    "print('\\n\\n')\n",
    "print('============================================')\n",
    "\n",
    "        \n",
    "        "
   ]
  },
  {
   "cell_type": "markdown",
   "metadata": {
    "colab_type": "text",
    "id": "WqsqWNnFNOhO"
   },
   "source": [
    "***Original Text :***\n",
    "\n",
    "      We’re back in Dale Cooper’s position, wandering through a freshly revived world, and trying to catch up with the ways it’s moved on in his absence.\n",
    "\n",
    "***Processed Text :***\n",
    "\n",
    "      We back Dale Cooper position wander freshly revive world try catch way move absence"
   ]
  }
 ],
 "metadata": {
  "colab": {
   "collapsed_sections": [],
   "name": "preprocessing.ipynb",
   "provenance": []
  },
  "kernelspec": {
   "display_name": "Python 3",
   "language": "python",
   "name": "python3"
  },
  "language_info": {
   "codemirror_mode": {
    "name": "ipython",
    "version": 3
   },
   "file_extension": ".py",
   "mimetype": "text/x-python",
   "name": "python",
   "nbconvert_exporter": "python",
   "pygments_lexer": "ipython3",
   "version": "3.7.3"
  }
 },
 "nbformat": 4,
 "nbformat_minor": 1
}
