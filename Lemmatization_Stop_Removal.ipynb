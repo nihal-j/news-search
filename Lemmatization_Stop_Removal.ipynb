{
  "nbformat": 4,
  "nbformat_minor": 0,
  "metadata": {
    "kernelspec": {
      "display_name": "Python 3",
      "language": "python",
      "name": "python3"
    },
    "language_info": {
      "codemirror_mode": {
        "name": "ipython",
        "version": 3
      },
      "file_extension": ".py",
      "mimetype": "text/x-python",
      "name": "python",
      "nbconvert_exporter": "python",
      "pygments_lexer": "ipython3",
      "version": "3.7.3"
    },
    "colab": {
      "name": "Lemmatization_Stop_Removal.ipynb",
      "version": "0.3.2",
      "provenance": [],
      "include_colab_link": true
    }
  },
  "cells": [
    {
      "cell_type": "markdown",
      "metadata": {
        "id": "view-in-github",
        "colab_type": "text"
      },
      "source": [
        "<a href=\"https://colab.research.google.com/github/nihaljainn/news-search/blob/master/Lemmatization_Stop_Removal.ipynb\" target=\"_parent\"><img src=\"https://colab.research.google.com/assets/colab-badge.svg\" alt=\"Open In Colab\"/></a>"
      ]
    },
    {
      "cell_type": "code",
      "metadata": {
        "id": "8qZ-TMc9SVHl",
        "colab_type": "code",
        "colab": {}
      },
      "source": [
        "import nltk\n",
        "import numpy as np\n",
        "from nltk.stem import WordNetLemmatizer\n",
        "from nltk.corpus import wordnet\n",
        "from nltk.corpus import stopwords\n",
        "from nltk.tokenize import RegexpTokenizer\n",
        "\n",
        "    "
      ],
      "execution_count": 0,
      "outputs": []
    },
    {
      "cell_type": "code",
      "metadata": {
        "id": "LpQkEVQOSVHr",
        "colab_type": "code",
        "colab": {}
      },
      "source": [
        "def get_wordnet_pos(word):\n",
        "    tag=nltk.pos_tag([word])[0][1][0].upper()\n",
        "    tag_dict={\"J\": wordnet.ADJ, \n",
        "              \"N\": wordnet.NOUN,\n",
        "              \"V\": wordnet.VERB,\n",
        "              \"R\": wordnet.ADV}\n",
        "    return tag_dict.get(tag,wordnet.NOUN)\n",
        "\n",
        "\n",
        "\n",
        "def lemma_stop(str):\n",
        "    lemmatizer = WordNetLemmatizer()\n",
        "#     sentence=arr[0][4]\n",
        "    tokenizer=RegexpTokenizer('\\w+|\\$]\\d\\[+|\\S+,-')\n",
        "    tokenized = tokenizer.tokenize(str)\n",
        "    lemmatized=[lemmatizer.lemmatize(w,get_wordnet_pos(w)) for w in tokenized]\n",
        "    stop_words=set(stopwords.words('english'))\n",
        "    filtered_sentence=[w for w in lemmatized if w not in stop_words]\n",
        "    after_lemma_stop=' '.join(w for w in filtered_sentence)\n",
        "    return after_lemma_stop"
      ],
      "execution_count": 0,
      "outputs": []
    },
    {
      "cell_type": "code",
      "metadata": {
        "scrolled": false,
        "id": "0PvIwQ6ySVHv",
        "colab_type": "code",
        "colab": {},
        "outputId": "fe9a1715-0a1b-4f40-adbb-32c66cfcfd3b"
      },
      "source": [
        "arr=np.load('data.npy',allow_pickle=True)\n",
        "sentence=arr[0][4]\n",
        "print(sentence)"
      ],
      "execution_count": 0,
      "outputs": [
        {
          "output_type": "stream",
          "text": [
            "      And never more so than in Showtime’s new series revival Some spoilers ahead through episode 4 of season 3 of Twin Peaks. On May 21st, Showtime brought back David Lynch’s groundbreaking TV series Twin Peaks, and fulfilled a prophecy in the process. In the second season finale, back in 1991, the spirit of series-defining murder victim Laura Palmer told FBI special agent and series protagonist Dale Cooper, “I’ll see you again in 25 years.” That clip plays again in the first episode of Lynch’s Twin Peaks revival, as a reminder that decades have in fact gone by, Laura’s promise has been carried out, and a series canceled mid-story is back on the air.A lot has changed in 25 years. The original cast members, who are mostly back on board, have all aged heavily and visibly. Many of the characters have moved on in life, getting new jobs, forming families, or taking up new obsessions. But in the opening episode, Dale Cooper was still where the show left him in 1991: trapped in the spirit domain known as the Black Lodge, at the mercy of incomprehensible forces that behave in erratic, alien ways. In other words, he’s just like anyone who’s actually watching Twin Peaks. As the third season began, the audience was also stuck back in 1991, waiting to see whether we were going to move on from the show’s many long-gestating cliffhangers. And we were also at the mercy of the incomprehensible force that is David Lynch, with his erratic, alien storytelling methods.All protagonists are mediators who help tell audiences how to interpret the narrative around them, but Dale Cooper is something else entirely: he is the audience, stumbling through Lynch’s obscure vision, and mutating along with it. The show’s tone, budget, and format have all changed with the 2017 revival, and Cooper, too, has changed — more so than any other character on the show. But he’s changed in ways we should recognize. They’re the same ways we’ve changed, as Twin Peaks has progressed from era-defining hit to weird cable art-experiment. The old series followed Agent Cooper through the painful, awkward process of maturing as an agent and a man. And his development happened in parallel with the maturing of a TV audience that had to learn how to follow a new kind of story.All protagonists mediate their stories, but Dale Cooper is something else entirelyToday, viewers have more sophisticated expectations than they did in the 1990s. They expect long arcs, slow character development, and mysteries that may take hours of air time to explore, let alone to decode. But Showtime’s new series is still leaving viewers curious, frustrated, baffled, and without the tools to translate what they’re seeing — which is exactly what Agent Cooper seems to be feeling right now as well. Consider Cooper as he started Twin Peaks back in 1990, as a fresh-faced, perky outsider walking into a mid-sized mountain community with no idea what to expect. Like the audience, he was entranced by the town of Twin Peaks — its quirky people, its unexpected pleasures, the sheer vividness of everything around him. Yes, he was there to solve a murder, but he was endlessly confident about his ability to tackle any case. The audience felt the same natural confidence. We knew how TV murder mysteries went. We thought we knew exactly what to expect from that end of the story: some procedural details, some red herrings, some drama, and eventually a solution.                Image: ABC  But like Cooper, we were seduced and distracted by Twin Peaks’ unexpected pleasures, the way the town unfolded on-screen, with all its strange domestic soap opera dramas and oddball interactions. Like Coop, we found our fun in the unusual texture and color of the world David Lynch and Mark Frost built. In those early days, Twin Peaks was a popular fad — the two-hour pilot was the season’s highest-rated TV movie — and the popular way to appreciate it was by emulating Dale Cooper’s experience as much as possible. Lifestyle pieces proliferated in the media, tracking people who threw Peaks parties to watch the show while eating all the things Cooper rhapsodized about in the early episodes: stacks of doughnuts, cherry pie, coffee, and breakfast food. (“Nothing beats the taste sensation when maple syrup collides with ham!” he chirps in episode 4.) The audience didn’t just want to watch Cooper solving a mystery, they wanted to be him, experiencing his outsized cheer for the world.The audience didn’t just want to watch Cooper solving a mystery, they wanted to be himAs the story went on, though, the tone darkened. Cooper lost his Boy Scout enthusiasm for food and the smell of Douglas firs. As more details emerged in the Laura Palmer murder case, another victim surfaced, and the supernatural side of the story emerged, Twin Peaks stopped sending Cooper on wacky cosplay adventures to Canada, and letting him vet his clues with oddball psychic experiments. It started confronting him with unexpected, alarming experiences. He took the first one in stride: visiting the Black Lodge in a dream, he returned convinced that he’d solved the murder, and that all would be well once he remembered the solution. Like us, he didn’t really understand what was going on at that point of the story, but he was still optimistic, and still willing to roll with every strange new revelation. Then Cooper got shot. The second season of Twin Peaks opened with him bleeding on the ground, enduring the unhelpful attentions of “the world’s oldest waiter,” listening to a glowing giant who dispenses information without acknowledging that Cooper may not live to use it, and having a strained one-way conversation with his voice-activated tape recorder. The viewers suffered along with him, through excruciating events that seemed drawn out to the point of perversity. Suddenly, being Agent Dale Cooper wasn’t fun anymore. His confidence was punctured, and we were all baffled and helpless together.                Image: ABC  There are moments in season 2 where Cooper bounces back into form, but they’re outnumbered by events that exhaust and chasten him, visibly transforming him into a more solemn, internal man. Jean Renault held him hostage, beat him, and threatened to murder him, suggesting Cooper was the cause of the town’s growing darkness. His former FBI partner Windom Earle brought a new chaos to town, and revealed Cooper’s past failings. Cooper lost his FBI standing and his love interest. He saw Earle’s soul consumed in front of him. A murderous monster took his place in the outside world. By the time season 2 ended, the audience had seen Cooper frightened, powerless, and confused as much as it ever saw him confident and in control. He stopped being a motive force in the world, and became a passive object in his own story. The series’s cancellation left viewers just as rudderless and abandoned as he was.‘Twin Peaks’ was about a hero maturing, but also about how the world consumed and broke himCooper’s trend toward impotence over the course of Twin Peaks’ original series run made for an ambitious and personal story. In the 1990s, TV viewers weren’t used to long-arc serial dramas where the protagonist changed rapidly and irrevocably, the way protagonists are expected to in today’s stories. But while Twin Peaks’ arc was compelling to many of the fans who stuck with it, it was wearying and demoralizing as well. The ratings trended steadily and sharply downward, peaking at milestones — the second season premiere, the reveal of who killed Laura Palmer — but still plummeting from the early days. The ratings drop was a form of feedback from a viewership who, like Cooper, weren’t confident and eager anymore. They began rejecting the show as it rejected its early tone, and its early promise. As Twin Peaks developed, it became clear that it was about the maturing of a hero, but it was also about how the vast and incomprehensible aspects of his world claimed, consumed, and broke him. Viewers couldn’t be blamed for pulling away from that story.And as Lynch withdrew from the show, it became narratively muddled, inconsistent, and sometimes downright silly. Cooper’s story remains one relatively consistent throughline, but it’s a tragic one, in which a fan-favorite character, the voice and point of view of the series, loses his joy, his freedom, and his capacity to control his own life. And it became the story of an audience that flocked to the show for lively, quirky surprises, and wound up splintered, divided, and uncertain.                Image: Showtime  Showtime’s series launches with Agent Cooper as thoroughly broken as he’s ever been. The first two episodes find him still trapped in the Lodge, facing the shrieking spirit of Laura Palmer and an angry human-sized nervous system topped by a pulsing, talking brain. He’s ejected into space, threatened by an unseen force, and rescued by a blinded woman with unclear motives who helps him in unclear ways. Finally, he’s fed through an electrical socket into what seems to be a decoy body, living its own life until he takes it over. By episode 4 of the series, he’s stumbling around in a lobotomized daze, repeating whatever people say to him, bellowing “Help” at random strangers and “Helloooooo!” at slot machines. He’s confused, helpless, and only slowly regaining the tools he needs to function in this world.And so are we. The knowledge that Lynch has been given creative control of the show is a form of reassurance, a promise that even if the new Peaks narrative is baffling and bizarre, it’s at least intended. It’s not the work of slot-fillers trying to pad out an infinitely ongoing program it’s a creative mastermind trying to tell a specific story. But that story is once again leaving viewers at sea, trying to pick apart Lynch’s work for tiny clues about what they’re watching. We’re back in Dale Cooper’s position, wandering through a freshly revived world, and trying to catch up with the ways it’s moved on in his absence.                Image: Showtime  The problem with the new Peaks as of episode 4, though, is that we have so little basis for understanding who our audience avatar is right now. Is Cooper mentally impaired because he’s spent 25 years outside of time and space? Because he’s stuck in a false, constructed body? Because Bob claimed some part of him while stealing his identity? Or just because Lynch thinks it’s funny to have Kyle MacLachlan staggering around blank-faced, with a tie on his head and a dozen-word vocabulary? What are the stakes of the story at this point? What is the audience to make of a narrative shaped by a character who isn’t capable of anything but following orders, following glowing magical sigils, and repeating whatever he hears? Like us, Cooper seems to have virtually no way of interpreting what he’s seeing. For now, he’s just along for the ride.we have so little basis for understanding our audience avatarThere’s no reason to believe that old Agent Cooper will ever return to Twin Peaks. The brash, confident, charmingly oddball young man he was in 1990 is long gone, and with good reason, given what he’s been through. In the same sort of way, no revival could ever recapture what Twin Peaks meant to audiences in 1990, when it was all so new and fresh and strange, so unlike anything that had ever appeared on network television.But he’s still around in some form, still bouncing through the trials of a Lynchian world. What’s missing now is any sense that he can help us understand what those trials mean. 1990s Cooper was an active force in his own story. He helped us navigate his surroundings, and see them with humor and wonder. He claimed, perhaps wrongly, but still convincingly, that there was order somewhere in the chaos. It’s natural for us to want to return to a mode where he can actively participate in his own story, where he’s helping solve its mysteries, instead of acting as its biggest conundrum. But even with his humanity lost and his agency gone, he still represents us onscreen. Even when he’s free-floating through a haze of glass boxes and stop-motion nightmares, we’re still with him. We’re still all Agent Cooper, navigating the mystery, and waiting to see where this is all going.\n"
          ],
          "name": "stdout"
        }
      ]
    },
    {
      "cell_type": "code",
      "metadata": {
        "id": "HL9m1T4pSVHz",
        "colab_type": "code",
        "colab": {}
      },
      "source": [
        "final=lemma_stop(sentence)\n"
      ],
      "execution_count": 0,
      "outputs": []
    },
    {
      "cell_type": "code",
      "metadata": {
        "scrolled": true,
        "id": "7BTxbifJSVH3",
        "colab_type": "code",
        "colab": {},
        "outputId": "559b7762-4227-47d0-b150-c2e767304363"
      },
      "source": [
        "print(final)"
      ],
      "execution_count": 0,
      "outputs": [
        {
          "output_type": "stream",
          "text": [
            "And never Showtime new series revival Some spoiler ahead episode 4 season 3 Twin Peaks On May 21st Showtime brought back David Lynch groundbreaking TV series Twin Peaks fulfil prophecy process In second season finale back 1991 spirit series define murder victim Laura Palmer told FBI special agent series protagonist Dale Cooper I see 25 year That clip play first episode Lynch Twin Peaks revival reminder decade fact go Laura promise carry series cancel mid story back air A lot change 25 year The original cast member mostly back board age heavily visibly Many character move life get new job form family take new obsession But opening episode Dale Cooper still show left 1991 trap spirit domain know Black Lodge mercy incomprehensible force behave erratic alien way In word like anyone actually watch Twin Peaks As third season begin audience also stuck back 1991 wait see whether go move show many long gestate cliffhanger And also mercy incomprehensible force David Lynch erratic alien storytelling method All protagonist mediator help tell audience interpret narrative around Dale Cooper something else entirely audience stumble Lynch obscure vision mutate along The show tone budget format change 2017 revival Cooper change character show But change way recognize They way change Twin Peaks progress era define hit weird cable art experiment The old series follow Agent Cooper painful awkward process mature agent man And development happen parallel mature TV audience learn follow new kind story All protagonist mediate story Dale Cooper something else entirelyToday viewer sophisticated expectation 1990s They expect long arc slow character development mystery may take hour air time explore let alone decode But Showtime new series still leave viewer curious frustrate baffle without tool translate see exactly Agent Cooper seem feel right well Consider Cooper start Twin Peaks back 1990 fresh face perky outsider walk mid size mountain community idea expect Like audience entrance town Twin Peaks quirky people unexpected pleasure sheer vividness everything around Yes solve murder endlessly confident ability tackle case The audience felt natural confidence We knew TV murder mystery go We thought knew exactly expect end story procedural detail red herring drama eventually solution Image ABC But like Cooper seduce distract Twin Peaks unexpected pleasure way town unfolded screen strange domestic soap opera drama oddball interaction Like Coop found fun unusual texture color world David Lynch Mark Frost built In early day Twin Peaks popular fad two hour pilot season high rat TV movie popular way appreciate emulate Dale Cooper experience much possible Lifestyle piece proliferate medium track people threw Peaks party watch show eat thing Cooper rhapsodize early episode stack doughnut cherry pie coffee breakfast food Nothing beat taste sensation maple syrup collides ham chirp episode 4 The audience want watch Cooper solve mystery want experience outsized cheer world The audience want watch Cooper solve mystery want himAs story go though tone darken Cooper lose Boy Scout enthusiasm food smell Douglas fir As detail emerge Laura Palmer murder case another victim surface supernatural side story emerge Twin Peaks stop send Cooper wacky cosplay adventure Canada let vet clue oddball psychic experiment It start confront unexpected alarm experience He take first one stride visit Black Lodge dream return convince solve murder would well remember solution Like u really understand go point story still optimistic still willing roll every strange new revelation Then Cooper get shot The second season Twin Peaks open bleeding ground endure unhelpful attention world old waiter listen glow giant dispenses information without acknowledge Cooper may live use strain one way conversation voice activate tape recorder The viewer suffer along excruciate event seem drawn point perversity Suddenly Agent Dale Cooper fun anymore His confidence puncture baffle helpless together Image ABC There moment season 2 Cooper bounce back form outnumber event exhaust chasten visibly transform solemn internal man Jean Renault held hostage beat threaten murder suggest Cooper cause town grow darkness His former FBI partner Windom Earle brought new chaos town reveal Cooper past failing Cooper lose FBI stand love interest He saw Earle soul consume front A murderous monster take place outside world By time season 2 end audience see Cooper frighten powerless confuse much ever saw confident control He stop motive force world become passive object story The series cancellation left viewer rudderless abandon Twin Peaks hero mature also world consume broke himCooper trend toward impotence course Twin Peaks original series run make ambitious personal story In 1990s TV viewer use long arc serial drama protagonist change rapidly irrevocably way protagonist expect today story But Twin Peaks arc compelling many fan stuck weary demoralize well The rating trend steadily sharply downward peak milestone second season premiere reveal kill Laura Palmer still plummet early day The rating drop form feedback viewership like Cooper confident eager anymore They begin reject show reject early tone early promise As Twin Peaks developed become clear mature hero also vast incomprehensible aspect world claimed consume broke Viewers blame pull away story And Lynch withdrew show become narratively muddle inconsistent sometimes downright silly Cooper story remains one relatively consistent throughline tragic one fan favorite character voice point view series loses joy freedom capacity control life And become story audience flock show lively quirky surprise wound splinter divide uncertain Image Showtime Showtime series launch Agent Cooper thoroughly broken ever The first two episode find still trap Lodge face shriek spirit Laura Palmer angry human size nervous system topped pulse talk brain He eject space threaten unseen force rescue blind woman unclear motif help unclear way Finally fed electrical socket seem decoy body living life take By episode 4 series stumble around lobotomized daze repeat whatever people say bellowing Help random stranger Helloooooo slot machine He confuse helpless slowly regain tool need function world And The knowledge Lynch give creative control show form reassurance promise even new Peaks narrative baffling bizarre least intend It work slot filler try pad infinitely ongoing program creative mastermind try tell specific story But story leave viewer sea try pick apart Lynch work tiny clue watch We back Dale Cooper position wander freshly revive world try catch way move absence Image Showtime The problem new Peaks episode 4 though little basis understand audience avatar right Is Cooper mentally impaired spent 25 year outside time space Because stuck false construct body Because Bob claimed part steal identity Or Lynch think funny Kyle MacLachlan stagger around blank face tie head dozen word vocabulary What stake story point What audience make narrative shape character capable anything follow order follow glow magical sigils repeat whatever hears Like u Cooper seem virtually way interpret see For along ride little basis understand audience avatarThere reason believe old Agent Cooper ever return Twin Peaks The brash confident charmingly oddball young man 1990 long go good reason give In sort way revival could ever recapture Twin Peaks meant audience 1990 new fresh strange unlike anything ever appear network television But still around form still bounce trial Lynchian world What miss sense help u understand trial mean 1990s Cooper active force story He help u navigate surroundings see humor wonder He claimed perhaps wrongly still convincingly order somewhere chaos It natural u want return mode actively participate story help solve mystery instead act big conundrum But even humanity lose agency go still represent u onscreen Even free float haze glass box stop motion nightmare still We still Agent Cooper navigate mystery wait see go\n"
          ],
          "name": "stdout"
        }
      ]
    },
    {
      "cell_type": "code",
      "metadata": {
        "id": "x1r5Sup4SVH8",
        "colab_type": "code",
        "colab": {},
        "outputId": "e16cc08c-64c7-4782-841c-de78eac738c5"
      },
      "source": [
        "docIDs = np.load(\"docIDs.npy\")\n",
        "print(docIDs.shape)"
      ],
      "execution_count": 0,
      "outputs": [
        {
          "output_type": "stream",
          "text": [
            "(167916,)\n"
          ],
          "name": "stdout"
        }
      ]
    },
    {
      "cell_type": "code",
      "metadata": {
        "id": "Swyl681NSVH_",
        "colab_type": "code",
        "colab": {},
        "outputId": "4685cfa5-98f6-4ce4-f426-bdae4d685d60"
      },
      "source": [
        "# for i in range(0,len(docIDs)):\n",
        "doc_id=docIDs[0]\n",
        "f_content=open(\"/home/nihaljain/3-1/CS F469/Assignment-1/data/content/\"+str(doc_id),\"r\")\n",
        "contents=f_content.readlines()\n",
        "# print(str(contents))\n",
        "contents=str(contents)\n",
        "# print(type(contents))\n",
        "final=lemma_stop(contents)\n",
        "print(final)\n",
        "#     if(i<5):\n",
        "#         print(final)\n",
        "#         print()\n",
        "print(doc_id)\n",
        "f_content=open(\"/home/nihaljain/3-1/CS F469/Assignment-1/data_post_lemma_stop_removal/content/\"+str(doc_id),\"w+\")\n",
        "f_content.write(\"Hello\")"
      ],
      "execution_count": 0,
      "outputs": [
        {
          "output_type": "stream",
          "text": [
            "And never Showtime new series revival Some spoiler ahead episode 4 season 3 Twin Peaks On May 21st Showtime brought back David Lynch groundbreaking TV series Twin Peaks fulfil prophecy process In second season finale back 1991 spirit series define murder victim Laura Palmer told FBI special agent series protagonist Dale Cooper I see 25 year That clip play first episode Lynch Twin Peaks revival reminder decade fact go Laura promise carry series cancel mid story back air A lot change 25 year The original cast member mostly back board age heavily visibly Many character move life get new job form family take new obsession But opening episode Dale Cooper still show left 1991 trap spirit domain know Black Lodge mercy incomprehensible force behave erratic alien way In word like anyone actually watch Twin Peaks As third season begin audience also stuck back 1991 wait see whether go move show many long gestate cliffhanger And also mercy incomprehensible force David Lynch erratic alien storytelling method All protagonist mediator help tell audience interpret narrative around Dale Cooper something else entirely audience stumble Lynch obscure vision mutate along The show tone budget format change 2017 revival Cooper change character show But change way recognize They way change Twin Peaks progress era define hit weird cable art experiment The old series follow Agent Cooper painful awkward process mature agent man And development happen parallel mature TV audience learn follow new kind story All protagonist mediate story Dale Cooper something else entirelyToday viewer sophisticated expectation 1990s They expect long arc slow character development mystery may take hour air time explore let alone decode But Showtime new series still leave viewer curious frustrate baffle without tool translate see exactly Agent Cooper seem feel right well Consider Cooper start Twin Peaks back 1990 fresh face perky outsider walk mid size mountain community idea expect Like audience entrance town Twin Peaks quirky people unexpected pleasure sheer vividness everything around Yes solve murder endlessly confident ability tackle case The audience felt natural confidence We knew TV murder mystery go We thought knew exactly expect end story procedural detail red herring drama eventually solution Image ABC But like Cooper seduce distract Twin Peaks unexpected pleasure way town unfolded screen strange domestic soap opera drama oddball interaction Like Coop found fun unusual texture color world David Lynch Mark Frost built In early day Twin Peaks popular fad two hour pilot season high rat TV movie popular way appreciate emulate Dale Cooper experience much possible Lifestyle piece proliferate medium track people threw Peaks party watch show eat thing Cooper rhapsodize early episode stack doughnut cherry pie coffee breakfast food Nothing beat taste sensation maple syrup collides ham chirp episode 4 The audience want watch Cooper solve mystery want experience outsized cheer world The audience want watch Cooper solve mystery want himAs story go though tone darken Cooper lose Boy Scout enthusiasm food smell Douglas fir As detail emerge Laura Palmer murder case another victim surface supernatural side story emerge Twin Peaks stop send Cooper wacky cosplay adventure Canada let vet clue oddball psychic experiment It start confront unexpected alarm experience He take first one stride visit Black Lodge dream return convince solve murder would well remember solution Like u really understand go point story still optimistic still willing roll every strange new revelation Then Cooper get shot The second season Twin Peaks open bleeding ground endure unhelpful attention world old waiter listen glow giant dispenses information without acknowledge Cooper may live use strain one way conversation voice activate tape recorder The viewer suffer along excruciate event seem drawn point perversity Suddenly Agent Dale Cooper fun anymore His confidence puncture baffle helpless together Image ABC There moment season 2 Cooper bounce back form outnumber event exhaust chasten visibly transform solemn internal man Jean Renault held hostage beat threaten murder suggest Cooper cause town grow darkness His former FBI partner Windom Earle brought new chaos town reveal Cooper past failing Cooper lose FBI stand love interest He saw Earle soul consume front A murderous monster take place outside world By time season 2 end audience see Cooper frighten powerless confuse much ever saw confident control He stop motive force world become passive object story The series cancellation left viewer rudderless abandon Twin Peaks hero mature also world consume broke himCooper trend toward impotence course Twin Peaks original series run make ambitious personal story In 1990s TV viewer use long arc serial drama protagonist change rapidly irrevocably way protagonist expect today story But Twin Peaks arc compelling many fan stuck weary demoralize well The rating trend steadily sharply downward peak milestone second season premiere reveal kill Laura Palmer still plummet early day The rating drop form feedback viewership like Cooper confident eager anymore They begin reject show reject early tone early promise As Twin Peaks developed become clear mature hero also vast incomprehensible aspect world claimed consume broke Viewers blame pull away story And Lynch withdrew show become narratively muddle inconsistent sometimes downright silly Cooper story remains one relatively consistent throughline tragic one fan favorite character voice point view series loses joy freedom capacity control life And become story audience flock show lively quirky surprise wound splinter divide uncertain Image Showtime Showtime series launch Agent Cooper thoroughly broken ever The first two episode find still trap Lodge face shriek spirit Laura Palmer angry human size nervous system topped pulse talk brain He eject space threaten unseen force rescue blind woman unclear motif help unclear way Finally fed electrical socket seem decoy body living life take By episode 4 series stumble around lobotomized daze repeat whatever people say bellowing Help random stranger Helloooooo slot machine He confuse helpless slowly regain tool need function world And The knowledge Lynch give creative control show form reassurance promise even new Peaks narrative baffling bizarre least intend It work slot filler try pad infinitely ongoing program creative mastermind try tell specific story But story leave viewer sea try pick apart Lynch work tiny clue watch We back Dale Cooper position wander freshly revive world try catch way move absence Image Showtime The problem new Peaks episode 4 though little basis understand audience avatar right Is Cooper mentally impaired spent 25 year outside time space Because stuck false construct body Because Bob claimed part steal identity Or Lynch think funny Kyle MacLachlan stagger around blank face tie head dozen word vocabulary What stake story point What audience make narrative shape character capable anything follow order follow glow magical sigils repeat whatever hears Like u Cooper seem virtually way interpret see For along ride little basis understand audience avatarThere reason believe old Agent Cooper ever return Twin Peaks The brash confident charmingly oddball young man 1990 long go good reason give In sort way revival could ever recapture Twin Peaks meant audience 1990 new fresh strange unlike anything ever appear network television But still around form still bounce trial Lynchian world What miss sense help u understand trial mean 1990s Cooper active force story He help u navigate surroundings see humor wonder He claimed perhaps wrongly still convincingly order somewhere chaos It natural u want return mode actively participate story help solve mystery instead act big conundrum But even humanity lose agency go still represent u onscreen Even free float haze glass box stop motion nightmare still We still Agent Cooper navigate mystery wait see go\n",
            "1\n"
          ],
          "name": "stdout"
        },
        {
          "output_type": "execute_result",
          "data": {
            "text/plain": [
              "5"
            ]
          },
          "metadata": {
            "tags": []
          },
          "execution_count": 46
        }
      ]
    },
    {
      "cell_type": "code",
      "metadata": {
        "id": "hOqrd4CLSVID",
        "colab_type": "code",
        "colab": {}
      },
      "source": [
        ""
      ],
      "execution_count": 0,
      "outputs": []
    }
  ]
}